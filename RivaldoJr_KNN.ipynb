{
  "nbformat": 4,
  "nbformat_minor": 0,
  "metadata": {
    "kernelspec": {
      "display_name": "Python 3",
      "language": "python",
      "name": "python3"
    },
    "language_info": {
      "codemirror_mode": {
        "name": "ipython",
        "version": 3
      },
      "file_extension": ".py",
      "mimetype": "text/x-python",
      "name": "python",
      "nbconvert_exporter": "python",
      "pygments_lexer": "ipython3",
      "version": "3.6.1"
    },
    "colab": {
      "provenance": [],
      "collapsed_sections": [],
      "include_colab_link": true
    }
  },
  "cells": [
    {
      "cell_type": "markdown",
      "metadata": {
        "id": "view-in-github",
        "colab_type": "text"
      },
      "source": [
        "<a href=\"https://colab.research.google.com/github/rivaldo/Interactive-Dashboards-and-Data-Apps-with-Plotly-and-Dash/blob/master/RivaldoJr_KNN.ipynb\" target=\"_parent\"><img src=\"https://colab.research.google.com/assets/colab-badge.svg\" alt=\"Open In Colab\"/></a>"
      ]
    },
    {
      "cell_type": "markdown",
      "metadata": {
        "id": "OIYx2HmPNNmP"
      },
      "source": [
        "# K Nearest Neighbors - Exercício \n",
        "\n",
        "## Importar bibliotecas\n",
        "Importe pandas, seaborn e as bibliotecas usuais."
      ]
    },
    {
      "cell_type": "code",
      "metadata": {
        "collapsed": true,
        "id": "YyOOxWx_NNmY"
      },
      "source": [
        "import pandas as pd\n",
        "import numpy as np\n",
        "\n",
        "import matplotlib.pyplot as plt\n",
        "import seaborn as sns\n",
        "%matplotlib inline"
      ],
      "execution_count": null,
      "outputs": []
    },
    {
      "cell_type": "markdown",
      "metadata": {
        "id": "ogttuG6mNNmZ"
      },
      "source": [
        "## Obtenha os dados\n",
        "Leia o arquivo csv 'KNN_Project_Data.csv' em um DataFrame"
      ]
    },
    {
      "cell_type": "code",
      "metadata": {
        "id": "qAe52MvOLfqq"
      },
      "source": [
        "df = pd.read_csv('KNN_Project_Data.csv')"
      ],
      "execution_count": null,
      "outputs": []
    },
    {
      "cell_type": "markdown",
      "metadata": {
        "id": "oAuixpc_NNmb"
      },
      "source": [
        "Verifique o cabeçalho do DataFrame"
      ]
    },
    {
      "cell_type": "code",
      "metadata": {
        "colab": {
          "base_uri": "https://localhost:8080/",
          "height": 250
        },
        "id": "f6II9abuNNmc",
        "outputId": "cb1dde0b-0204-4d1b-8f40-f50c6cbc3c0e"
      },
      "source": [],
      "execution_count": null,
      "outputs": [
        {
          "output_type": "execute_result",
          "data": {
            "text/plain": [
              "          XVPM         GWYH         TRAT        TLLZ         IGGA  \\\n",
              "0  1636.670614   817.988525  2565.995189  358.347163   550.417491   \n",
              "1  1013.402760   577.587332  2644.141273  280.428203  1161.873391   \n",
              "2  1300.035501   820.518697  2025.854469  525.562292   922.206261   \n",
              "3  1059.347542  1066.866418   612.000041  480.827789   419.467495   \n",
              "4  1018.340526  1313.679056   950.622661  724.742174   843.065903   \n",
              "\n",
              "          HYKR         EDFS        GUUB         MGJM         JHZC  \\\n",
              "0  1618.870897  2147.641254  330.727893  1494.878631   845.136088   \n",
              "1  2084.107872   853.404981  447.157619  1193.032521   861.081809   \n",
              "2  2552.355407   818.676686  845.491492  1968.367513  1647.186291   \n",
              "3   685.666983   852.867810  341.664784  1154.391368  1450.935357   \n",
              "4  1370.554164   905.469453  658.118202   539.459350  1899.850792   \n",
              "\n",
              "   TARGET CLASS  \n",
              "0             0  \n",
              "1             1  \n",
              "2             1  \n",
              "3             0  \n",
              "4             0  "
            ],
            "text/html": [
              "\n",
              "  <div id=\"df-6586f12e-3ca3-41d3-bd76-02068a6a2ee5\">\n",
              "    <div class=\"colab-df-container\">\n",
              "      <div>\n",
              "<style scoped>\n",
              "    .dataframe tbody tr th:only-of-type {\n",
              "        vertical-align: middle;\n",
              "    }\n",
              "\n",
              "    .dataframe tbody tr th {\n",
              "        vertical-align: top;\n",
              "    }\n",
              "\n",
              "    .dataframe thead th {\n",
              "        text-align: right;\n",
              "    }\n",
              "</style>\n",
              "<table border=\"1\" class=\"dataframe\">\n",
              "  <thead>\n",
              "    <tr style=\"text-align: right;\">\n",
              "      <th></th>\n",
              "      <th>XVPM</th>\n",
              "      <th>GWYH</th>\n",
              "      <th>TRAT</th>\n",
              "      <th>TLLZ</th>\n",
              "      <th>IGGA</th>\n",
              "      <th>HYKR</th>\n",
              "      <th>EDFS</th>\n",
              "      <th>GUUB</th>\n",
              "      <th>MGJM</th>\n",
              "      <th>JHZC</th>\n",
              "      <th>TARGET CLASS</th>\n",
              "    </tr>\n",
              "  </thead>\n",
              "  <tbody>\n",
              "    <tr>\n",
              "      <th>0</th>\n",
              "      <td>1636.670614</td>\n",
              "      <td>817.988525</td>\n",
              "      <td>2565.995189</td>\n",
              "      <td>358.347163</td>\n",
              "      <td>550.417491</td>\n",
              "      <td>1618.870897</td>\n",
              "      <td>2147.641254</td>\n",
              "      <td>330.727893</td>\n",
              "      <td>1494.878631</td>\n",
              "      <td>845.136088</td>\n",
              "      <td>0</td>\n",
              "    </tr>\n",
              "    <tr>\n",
              "      <th>1</th>\n",
              "      <td>1013.402760</td>\n",
              "      <td>577.587332</td>\n",
              "      <td>2644.141273</td>\n",
              "      <td>280.428203</td>\n",
              "      <td>1161.873391</td>\n",
              "      <td>2084.107872</td>\n",
              "      <td>853.404981</td>\n",
              "      <td>447.157619</td>\n",
              "      <td>1193.032521</td>\n",
              "      <td>861.081809</td>\n",
              "      <td>1</td>\n",
              "    </tr>\n",
              "    <tr>\n",
              "      <th>2</th>\n",
              "      <td>1300.035501</td>\n",
              "      <td>820.518697</td>\n",
              "      <td>2025.854469</td>\n",
              "      <td>525.562292</td>\n",
              "      <td>922.206261</td>\n",
              "      <td>2552.355407</td>\n",
              "      <td>818.676686</td>\n",
              "      <td>845.491492</td>\n",
              "      <td>1968.367513</td>\n",
              "      <td>1647.186291</td>\n",
              "      <td>1</td>\n",
              "    </tr>\n",
              "    <tr>\n",
              "      <th>3</th>\n",
              "      <td>1059.347542</td>\n",
              "      <td>1066.866418</td>\n",
              "      <td>612.000041</td>\n",
              "      <td>480.827789</td>\n",
              "      <td>419.467495</td>\n",
              "      <td>685.666983</td>\n",
              "      <td>852.867810</td>\n",
              "      <td>341.664784</td>\n",
              "      <td>1154.391368</td>\n",
              "      <td>1450.935357</td>\n",
              "      <td>0</td>\n",
              "    </tr>\n",
              "    <tr>\n",
              "      <th>4</th>\n",
              "      <td>1018.340526</td>\n",
              "      <td>1313.679056</td>\n",
              "      <td>950.622661</td>\n",
              "      <td>724.742174</td>\n",
              "      <td>843.065903</td>\n",
              "      <td>1370.554164</td>\n",
              "      <td>905.469453</td>\n",
              "      <td>658.118202</td>\n",
              "      <td>539.459350</td>\n",
              "      <td>1899.850792</td>\n",
              "      <td>0</td>\n",
              "    </tr>\n",
              "  </tbody>\n",
              "</table>\n",
              "</div>\n",
              "      <button class=\"colab-df-convert\" onclick=\"convertToInteractive('df-6586f12e-3ca3-41d3-bd76-02068a6a2ee5')\"\n",
              "              title=\"Convert this dataframe to an interactive table.\"\n",
              "              style=\"display:none;\">\n",
              "        \n",
              "  <svg xmlns=\"http://www.w3.org/2000/svg\" height=\"24px\"viewBox=\"0 0 24 24\"\n",
              "       width=\"24px\">\n",
              "    <path d=\"M0 0h24v24H0V0z\" fill=\"none\"/>\n",
              "    <path d=\"M18.56 5.44l.94 2.06.94-2.06 2.06-.94-2.06-.94-.94-2.06-.94 2.06-2.06.94zm-11 1L8.5 8.5l.94-2.06 2.06-.94-2.06-.94L8.5 2.5l-.94 2.06-2.06.94zm10 10l.94 2.06.94-2.06 2.06-.94-2.06-.94-.94-2.06-.94 2.06-2.06.94z\"/><path d=\"M17.41 7.96l-1.37-1.37c-.4-.4-.92-.59-1.43-.59-.52 0-1.04.2-1.43.59L10.3 9.45l-7.72 7.72c-.78.78-.78 2.05 0 2.83L4 21.41c.39.39.9.59 1.41.59.51 0 1.02-.2 1.41-.59l7.78-7.78 2.81-2.81c.8-.78.8-2.07 0-2.86zM5.41 20L4 18.59l7.72-7.72 1.47 1.35L5.41 20z\"/>\n",
              "  </svg>\n",
              "      </button>\n",
              "      \n",
              "  <style>\n",
              "    .colab-df-container {\n",
              "      display:flex;\n",
              "      flex-wrap:wrap;\n",
              "      gap: 12px;\n",
              "    }\n",
              "\n",
              "    .colab-df-convert {\n",
              "      background-color: #E8F0FE;\n",
              "      border: none;\n",
              "      border-radius: 50%;\n",
              "      cursor: pointer;\n",
              "      display: none;\n",
              "      fill: #1967D2;\n",
              "      height: 32px;\n",
              "      padding: 0 0 0 0;\n",
              "      width: 32px;\n",
              "    }\n",
              "\n",
              "    .colab-df-convert:hover {\n",
              "      background-color: #E2EBFA;\n",
              "      box-shadow: 0px 1px 2px rgba(60, 64, 67, 0.3), 0px 1px 3px 1px rgba(60, 64, 67, 0.15);\n",
              "      fill: #174EA6;\n",
              "    }\n",
              "\n",
              "    [theme=dark] .colab-df-convert {\n",
              "      background-color: #3B4455;\n",
              "      fill: #D2E3FC;\n",
              "    }\n",
              "\n",
              "    [theme=dark] .colab-df-convert:hover {\n",
              "      background-color: #434B5C;\n",
              "      box-shadow: 0px 1px 3px 1px rgba(0, 0, 0, 0.15);\n",
              "      filter: drop-shadow(0px 1px 2px rgba(0, 0, 0, 0.3));\n",
              "      fill: #FFFFFF;\n",
              "    }\n",
              "  </style>\n",
              "\n",
              "      <script>\n",
              "        const buttonEl =\n",
              "          document.querySelector('#df-6586f12e-3ca3-41d3-bd76-02068a6a2ee5 button.colab-df-convert');\n",
              "        buttonEl.style.display =\n",
              "          google.colab.kernel.accessAllowed ? 'block' : 'none';\n",
              "\n",
              "        async function convertToInteractive(key) {\n",
              "          const element = document.querySelector('#df-6586f12e-3ca3-41d3-bd76-02068a6a2ee5');\n",
              "          const dataTable =\n",
              "            await google.colab.kernel.invokeFunction('convertToInteractive',\n",
              "                                                     [key], {});\n",
              "          if (!dataTable) return;\n",
              "\n",
              "          const docLinkHtml = 'Like what you see? Visit the ' +\n",
              "            '<a target=\"_blank\" href=https://colab.research.google.com/notebooks/data_table.ipynb>data table notebook</a>'\n",
              "            + ' to learn more about interactive tables.';\n",
              "          element.innerHTML = '';\n",
              "          dataTable['output_type'] = 'display_data';\n",
              "          await google.colab.output.renderOutput(dataTable, element);\n",
              "          const docLink = document.createElement('div');\n",
              "          docLink.innerHTML = docLinkHtml;\n",
              "          element.appendChild(docLink);\n",
              "        }\n",
              "      </script>\n",
              "    </div>\n",
              "  </div>\n",
              "  "
            ]
          },
          "metadata": {},
          "execution_count": 6
        }
      ]
    },
    {
      "cell_type": "markdown",
      "source": [
        "# Análise descritiva dos dados"
      ],
      "metadata": {
        "id": "WNOLKAoUBEus"
      }
    },
    {
      "cell_type": "markdown",
      "source": [
        "Describe"
      ],
      "metadata": {
        "id": "vJ9zF2wuBKnZ"
      }
    },
    {
      "cell_type": "code",
      "source": [],
      "metadata": {
        "colab": {
          "base_uri": "https://localhost:8080/"
        },
        "id": "IiV5ibE5Bi0Q",
        "outputId": "469074f0-9f0c-4632-b812-7cbd9dc672fb"
      },
      "execution_count": null,
      "outputs": [
        {
          "output_type": "stream",
          "name": "stdout",
          "text": [
            "<class 'pandas.core.frame.DataFrame'>\n",
            "RangeIndex: 1000 entries, 0 to 999\n",
            "Data columns (total 11 columns):\n",
            " #   Column        Non-Null Count  Dtype  \n",
            "---  ------        --------------  -----  \n",
            " 0   XVPM          1000 non-null   float64\n",
            " 1   GWYH          1000 non-null   float64\n",
            " 2   TRAT          1000 non-null   float64\n",
            " 3   TLLZ          1000 non-null   float64\n",
            " 4   IGGA          1000 non-null   float64\n",
            " 5   HYKR          1000 non-null   float64\n",
            " 6   EDFS          1000 non-null   float64\n",
            " 7   GUUB          1000 non-null   float64\n",
            " 8   MGJM          1000 non-null   float64\n",
            " 9   JHZC          1000 non-null   float64\n",
            " 10  TARGET CLASS  1000 non-null   int64  \n",
            "dtypes: float64(10), int64(1)\n",
            "memory usage: 86.1 KB\n"
          ]
        }
      ]
    },
    {
      "cell_type": "code",
      "source": [],
      "metadata": {
        "colab": {
          "base_uri": "https://localhost:8080/",
          "height": 362
        },
        "id": "lLB6o9fqBPYK",
        "outputId": "3cc4a3b0-1951-4920-c789-cde4472302d9"
      },
      "execution_count": null,
      "outputs": [
        {
          "output_type": "execute_result",
          "data": {
            "text/plain": [
              "              XVPM         GWYH         TRAT         TLLZ         IGGA  \\\n",
              "count  1000.000000  1000.000000  1000.000000  1000.000000  1000.000000   \n",
              "mean   1055.071157   991.851567  1529.373525   495.107156   940.590072   \n",
              "std     370.980193   392.278890   640.286092   142.789188   345.923136   \n",
              "min      21.170000    21.720000    31.800000     8.450000    17.930000   \n",
              "25%     767.413366   694.859326  1062.600806   401.788135   700.763295   \n",
              "50%    1045.904805   978.355081  1522.507269   500.197421   939.348662   \n",
              "75%    1326.065178  1275.528770  1991.128626   600.525709  1182.578166   \n",
              "max    2117.000000  2172.000000  3180.000000   845.000000  1793.000000   \n",
              "\n",
              "              HYKR         EDFS         GUUB         MGJM         JHZC  \\\n",
              "count  1000.000000  1000.000000  1000.000000  1000.000000  1000.000000   \n",
              "mean   1550.637455  1561.003252   561.346117  1089.067338  1452.521629   \n",
              "std     493.491988   598.608517   247.357552   402.666953   568.132005   \n",
              "min      27.930000    31.960000    13.520000    23.210000    30.890000   \n",
              "25%    1219.267077  1132.097865   381.704293   801.849802  1059.499689   \n",
              "50%    1564.996551  1565.882879   540.420379  1099.087954  1441.554053   \n",
              "75%    1891.937040  1981.739411   725.762027  1369.923665  1864.405512   \n",
              "max    2793.000000  3196.000000  1352.000000  2321.000000  3089.000000   \n",
              "\n",
              "       TARGET CLASS  \n",
              "count    1000.00000  \n",
              "mean        0.50000  \n",
              "std         0.50025  \n",
              "min         0.00000  \n",
              "25%         0.00000  \n",
              "50%         0.50000  \n",
              "75%         1.00000  \n",
              "max         1.00000  "
            ],
            "text/html": [
              "\n",
              "  <div id=\"df-354810c4-942a-4723-95db-43528668b7cf\">\n",
              "    <div class=\"colab-df-container\">\n",
              "      <div>\n",
              "<style scoped>\n",
              "    .dataframe tbody tr th:only-of-type {\n",
              "        vertical-align: middle;\n",
              "    }\n",
              "\n",
              "    .dataframe tbody tr th {\n",
              "        vertical-align: top;\n",
              "    }\n",
              "\n",
              "    .dataframe thead th {\n",
              "        text-align: right;\n",
              "    }\n",
              "</style>\n",
              "<table border=\"1\" class=\"dataframe\">\n",
              "  <thead>\n",
              "    <tr style=\"text-align: right;\">\n",
              "      <th></th>\n",
              "      <th>XVPM</th>\n",
              "      <th>GWYH</th>\n",
              "      <th>TRAT</th>\n",
              "      <th>TLLZ</th>\n",
              "      <th>IGGA</th>\n",
              "      <th>HYKR</th>\n",
              "      <th>EDFS</th>\n",
              "      <th>GUUB</th>\n",
              "      <th>MGJM</th>\n",
              "      <th>JHZC</th>\n",
              "      <th>TARGET CLASS</th>\n",
              "    </tr>\n",
              "  </thead>\n",
              "  <tbody>\n",
              "    <tr>\n",
              "      <th>count</th>\n",
              "      <td>1000.000000</td>\n",
              "      <td>1000.000000</td>\n",
              "      <td>1000.000000</td>\n",
              "      <td>1000.000000</td>\n",
              "      <td>1000.000000</td>\n",
              "      <td>1000.000000</td>\n",
              "      <td>1000.000000</td>\n",
              "      <td>1000.000000</td>\n",
              "      <td>1000.000000</td>\n",
              "      <td>1000.000000</td>\n",
              "      <td>1000.00000</td>\n",
              "    </tr>\n",
              "    <tr>\n",
              "      <th>mean</th>\n",
              "      <td>1055.071157</td>\n",
              "      <td>991.851567</td>\n",
              "      <td>1529.373525</td>\n",
              "      <td>495.107156</td>\n",
              "      <td>940.590072</td>\n",
              "      <td>1550.637455</td>\n",
              "      <td>1561.003252</td>\n",
              "      <td>561.346117</td>\n",
              "      <td>1089.067338</td>\n",
              "      <td>1452.521629</td>\n",
              "      <td>0.50000</td>\n",
              "    </tr>\n",
              "    <tr>\n",
              "      <th>std</th>\n",
              "      <td>370.980193</td>\n",
              "      <td>392.278890</td>\n",
              "      <td>640.286092</td>\n",
              "      <td>142.789188</td>\n",
              "      <td>345.923136</td>\n",
              "      <td>493.491988</td>\n",
              "      <td>598.608517</td>\n",
              "      <td>247.357552</td>\n",
              "      <td>402.666953</td>\n",
              "      <td>568.132005</td>\n",
              "      <td>0.50025</td>\n",
              "    </tr>\n",
              "    <tr>\n",
              "      <th>min</th>\n",
              "      <td>21.170000</td>\n",
              "      <td>21.720000</td>\n",
              "      <td>31.800000</td>\n",
              "      <td>8.450000</td>\n",
              "      <td>17.930000</td>\n",
              "      <td>27.930000</td>\n",
              "      <td>31.960000</td>\n",
              "      <td>13.520000</td>\n",
              "      <td>23.210000</td>\n",
              "      <td>30.890000</td>\n",
              "      <td>0.00000</td>\n",
              "    </tr>\n",
              "    <tr>\n",
              "      <th>25%</th>\n",
              "      <td>767.413366</td>\n",
              "      <td>694.859326</td>\n",
              "      <td>1062.600806</td>\n",
              "      <td>401.788135</td>\n",
              "      <td>700.763295</td>\n",
              "      <td>1219.267077</td>\n",
              "      <td>1132.097865</td>\n",
              "      <td>381.704293</td>\n",
              "      <td>801.849802</td>\n",
              "      <td>1059.499689</td>\n",
              "      <td>0.00000</td>\n",
              "    </tr>\n",
              "    <tr>\n",
              "      <th>50%</th>\n",
              "      <td>1045.904805</td>\n",
              "      <td>978.355081</td>\n",
              "      <td>1522.507269</td>\n",
              "      <td>500.197421</td>\n",
              "      <td>939.348662</td>\n",
              "      <td>1564.996551</td>\n",
              "      <td>1565.882879</td>\n",
              "      <td>540.420379</td>\n",
              "      <td>1099.087954</td>\n",
              "      <td>1441.554053</td>\n",
              "      <td>0.50000</td>\n",
              "    </tr>\n",
              "    <tr>\n",
              "      <th>75%</th>\n",
              "      <td>1326.065178</td>\n",
              "      <td>1275.528770</td>\n",
              "      <td>1991.128626</td>\n",
              "      <td>600.525709</td>\n",
              "      <td>1182.578166</td>\n",
              "      <td>1891.937040</td>\n",
              "      <td>1981.739411</td>\n",
              "      <td>725.762027</td>\n",
              "      <td>1369.923665</td>\n",
              "      <td>1864.405512</td>\n",
              "      <td>1.00000</td>\n",
              "    </tr>\n",
              "    <tr>\n",
              "      <th>max</th>\n",
              "      <td>2117.000000</td>\n",
              "      <td>2172.000000</td>\n",
              "      <td>3180.000000</td>\n",
              "      <td>845.000000</td>\n",
              "      <td>1793.000000</td>\n",
              "      <td>2793.000000</td>\n",
              "      <td>3196.000000</td>\n",
              "      <td>1352.000000</td>\n",
              "      <td>2321.000000</td>\n",
              "      <td>3089.000000</td>\n",
              "      <td>1.00000</td>\n",
              "    </tr>\n",
              "  </tbody>\n",
              "</table>\n",
              "</div>\n",
              "      <button class=\"colab-df-convert\" onclick=\"convertToInteractive('df-354810c4-942a-4723-95db-43528668b7cf')\"\n",
              "              title=\"Convert this dataframe to an interactive table.\"\n",
              "              style=\"display:none;\">\n",
              "        \n",
              "  <svg xmlns=\"http://www.w3.org/2000/svg\" height=\"24px\"viewBox=\"0 0 24 24\"\n",
              "       width=\"24px\">\n",
              "    <path d=\"M0 0h24v24H0V0z\" fill=\"none\"/>\n",
              "    <path d=\"M18.56 5.44l.94 2.06.94-2.06 2.06-.94-2.06-.94-.94-2.06-.94 2.06-2.06.94zm-11 1L8.5 8.5l.94-2.06 2.06-.94-2.06-.94L8.5 2.5l-.94 2.06-2.06.94zm10 10l.94 2.06.94-2.06 2.06-.94-2.06-.94-.94-2.06-.94 2.06-2.06.94z\"/><path d=\"M17.41 7.96l-1.37-1.37c-.4-.4-.92-.59-1.43-.59-.52 0-1.04.2-1.43.59L10.3 9.45l-7.72 7.72c-.78.78-.78 2.05 0 2.83L4 21.41c.39.39.9.59 1.41.59.51 0 1.02-.2 1.41-.59l7.78-7.78 2.81-2.81c.8-.78.8-2.07 0-2.86zM5.41 20L4 18.59l7.72-7.72 1.47 1.35L5.41 20z\"/>\n",
              "  </svg>\n",
              "      </button>\n",
              "      \n",
              "  <style>\n",
              "    .colab-df-container {\n",
              "      display:flex;\n",
              "      flex-wrap:wrap;\n",
              "      gap: 12px;\n",
              "    }\n",
              "\n",
              "    .colab-df-convert {\n",
              "      background-color: #E8F0FE;\n",
              "      border: none;\n",
              "      border-radius: 50%;\n",
              "      cursor: pointer;\n",
              "      display: none;\n",
              "      fill: #1967D2;\n",
              "      height: 32px;\n",
              "      padding: 0 0 0 0;\n",
              "      width: 32px;\n",
              "    }\n",
              "\n",
              "    .colab-df-convert:hover {\n",
              "      background-color: #E2EBFA;\n",
              "      box-shadow: 0px 1px 2px rgba(60, 64, 67, 0.3), 0px 1px 3px 1px rgba(60, 64, 67, 0.15);\n",
              "      fill: #174EA6;\n",
              "    }\n",
              "\n",
              "    [theme=dark] .colab-df-convert {\n",
              "      background-color: #3B4455;\n",
              "      fill: #D2E3FC;\n",
              "    }\n",
              "\n",
              "    [theme=dark] .colab-df-convert:hover {\n",
              "      background-color: #434B5C;\n",
              "      box-shadow: 0px 1px 3px 1px rgba(0, 0, 0, 0.15);\n",
              "      filter: drop-shadow(0px 1px 2px rgba(0, 0, 0, 0.3));\n",
              "      fill: #FFFFFF;\n",
              "    }\n",
              "  </style>\n",
              "\n",
              "      <script>\n",
              "        const buttonEl =\n",
              "          document.querySelector('#df-354810c4-942a-4723-95db-43528668b7cf button.colab-df-convert');\n",
              "        buttonEl.style.display =\n",
              "          google.colab.kernel.accessAllowed ? 'block' : 'none';\n",
              "\n",
              "        async function convertToInteractive(key) {\n",
              "          const element = document.querySelector('#df-354810c4-942a-4723-95db-43528668b7cf');\n",
              "          const dataTable =\n",
              "            await google.colab.kernel.invokeFunction('convertToInteractive',\n",
              "                                                     [key], {});\n",
              "          if (!dataTable) return;\n",
              "\n",
              "          const docLinkHtml = 'Like what you see? Visit the ' +\n",
              "            '<a target=\"_blank\" href=https://colab.research.google.com/notebooks/data_table.ipynb>data table notebook</a>'\n",
              "            + ' to learn more about interactive tables.';\n",
              "          element.innerHTML = '';\n",
              "          dataTable['output_type'] = 'display_data';\n",
              "          await google.colab.output.renderOutput(dataTable, element);\n",
              "          const docLink = document.createElement('div');\n",
              "          docLink.innerHTML = docLinkHtml;\n",
              "          element.appendChild(docLink);\n",
              "        }\n",
              "      </script>\n",
              "    </div>\n",
              "  </div>\n",
              "  "
            ]
          },
          "metadata": {},
          "execution_count": 9
        }
      ]
    },
    {
      "cell_type": "markdown",
      "source": [
        "Valores nulos"
      ],
      "metadata": {
        "id": "sH-tCEbiBZtb"
      }
    },
    {
      "cell_type": "markdown",
      "source": [
        "import a lib missing no"
      ],
      "metadata": {
        "id": "GD4R912MJPXF"
      }
    },
    {
      "cell_type": "code",
      "source": [],
      "metadata": {
        "id": "NjRiu-_BBbek"
      },
      "execution_count": null,
      "outputs": []
    },
    {
      "cell_type": "markdown",
      "source": [
        "plot o grafico de valores faltantes"
      ],
      "metadata": {
        "id": "ARDH9useJSNi"
      }
    },
    {
      "cell_type": "code",
      "source": [],
      "metadata": {
        "colab": {
          "base_uri": "https://localhost:8080/",
          "height": 416
        },
        "id": "7Ws10GIjBeCi",
        "outputId": "27c22847-1d19-4c41-87a2-d54bba673e4d"
      },
      "execution_count": null,
      "outputs": [
        {
          "output_type": "display_data",
          "data": {
            "text/plain": [
              "<Figure size 720x360 with 2 Axes>"
            ],
            "image/png": "[encoded data removed]"
          },
          "metadata": {
            "needs_background": "light"
          }
        }
      ]
    },
    {
      "cell_type": "markdown",
      "source": [
        "Histograma"
      ],
      "metadata": {
        "id": "Yo3uRQbpBVw0"
      }
    },
    {
      "cell_type": "markdown",
      "source": [
        "plot o gráfico com os histogramas do dataset"
      ],
      "metadata": {
        "id": "ux4oyg31JWzZ"
      }
    },
    {
      "cell_type": "code",
      "source": [
        " "
      ],
      "metadata": {
        "colab": {
          "base_uri": "https://localhost:8080/",
          "height": 771
        },
        "id": "c2s5_zE7BXnU",
        "outputId": "2d0c64c4-1083-43d4-d21a-b877bbb4e49a"
      },
      "execution_count": null,
      "outputs": [
        {
          "output_type": "stream",
          "name": "stderr",
          "text": [
            "/usr/local/lib/python3.7/dist-packages/ipykernel_launcher.py:3: UserWarning: To output multiple subplots, the figure containing the passed axes is being cleared\n",
            "  This is separate from the ipykernel package so we can avoid doing imports until\n"
          ]
        },
        {
          "output_type": "display_data",
          "data": {
            "text/plain": [
              "<Figure size 1152x864 with 12 Axes>"
            ],
            "image/png": "[encoded data removed]"
          },
          "metadata": {
            "needs_background": "light"
          }
        }
      ]
    },
    {
      "cell_type": "markdown",
      "source": [
        "Análise de Correlação"
      ],
      "metadata": {
        "id": "1f0FvzrFB7Bs"
      }
    },
    {
      "cell_type": "markdown",
      "source": [
        "plot o gráfico da matriz de correlação das variáveis"
      ],
      "metadata": {
        "id": "LRa8SS8RJZiI"
      }
    },
    {
      "cell_type": "code",
      "source": [
        " "
      ],
      "metadata": {
        "colab": {
          "base_uri": "https://localhost:8080/",
          "height": 607
        },
        "id": "g6XLBL5jBQ19",
        "outputId": "27464f0e-5d35-4147-b635-97f677a2fb13"
      },
      "execution_count": null,
      "outputs": [
        {
          "output_type": "display_data",
          "data": {
            "text/plain": [
              "<Figure size 1008x720 with 2 Axes>"
            ],
            "image/png": "[encoded data removed]"
          },
          "metadata": {
            "needs_background": "light"
          }
        }
      ]
    },
    {
      "cell_type": "markdown",
      "metadata": {
        "id": "on89i9mcNNmq"
      },
      "source": [
        "# Divisão treino-teste\n",
        "\n",
        "Use o método train_test_split para dividir seus dados em um conjunto treino e teste."
      ]
    },
    {
      "cell_type": "markdown",
      "source": [
        "import a lib que faz a separação dos dados em treino e teste do sklearng"
      ],
      "metadata": {
        "id": "sWmFogAyJcfh"
      }
    },
    {
      "cell_type": "code",
      "metadata": {
        "collapsed": true,
        "id": "7y_dORpKNNmr"
      },
      "source": [],
      "execution_count": null,
      "outputs": []
    },
    {
      "cell_type": "markdown",
      "source": [
        "aplique a separação dos dados em treino e teste"
      ],
      "metadata": {
        "id": "ES32lR3dJeUb"
      }
    },
    {
      "cell_type": "code",
      "metadata": {
        "collapsed": true,
        "id": "TZ9KcjdlNNmr"
      },
      "source": [
        " "
      ],
      "execution_count": null,
      "outputs": []
    },
    {
      "cell_type": "markdown",
      "source": [
        "analise o X_train"
      ],
      "metadata": {
        "id": "LG_g21TTJg5Z"
      }
    },
    {
      "cell_type": "code",
      "metadata": {
        "id": "dTaU8VdeNNmq",
        "colab": {
          "base_uri": "https://localhost:8080/",
          "height": 206
        },
        "outputId": "b06df019-cee8-49e0-c4f8-79d1bb3ae460"
      },
      "source": [
        " "
      ],
      "execution_count": null,
      "outputs": [
        {
          "output_type": "execute_result",
          "data": {
            "text/plain": [
              "          XVPM         GWYH         TRAT        TLLZ         IGGA  \\\n",
              "0  1636.670614   817.988525  2565.995189  358.347163   550.417491   \n",
              "1  1013.402760   577.587332  2644.141273  280.428203  1161.873391   \n",
              "2  1300.035501   820.518697  2025.854469  525.562292   922.206261   \n",
              "3  1059.347542  1066.866418   612.000041  480.827789   419.467495   \n",
              "4  1018.340526  1313.679056   950.622661  724.742174   843.065903   \n",
              "\n",
              "          HYKR         EDFS        GUUB         MGJM         JHZC  \n",
              "0  1618.870897  2147.641254  330.727893  1494.878631   845.136088  \n",
              "1  2084.107872   853.404981  447.157619  1193.032521   861.081809  \n",
              "2  2552.355407   818.676686  845.491492  1968.367513  1647.186291  \n",
              "3   685.666983   852.867810  341.664784  1154.391368  1450.935357  \n",
              "4  1370.554164   905.469453  658.118202   539.459350  1899.850792  "
            ],
            "text/html": [
              "\n",
              "  <div id=\"df-21ffc54a-5288-40f1-be7b-6c9803d6fb0e\">\n",
              "    <div class=\"colab-df-container\">\n",
              "      <div>\n",
              "<style scoped>\n",
              "    .dataframe tbody tr th:only-of-type {\n",
              "        vertical-align: middle;\n",
              "    }\n",
              "\n",
              "    .dataframe tbody tr th {\n",
              "        vertical-align: top;\n",
              "    }\n",
              "\n",
              "    .dataframe thead th {\n",
              "        text-align: right;\n",
              "    }\n",
              "</style>\n",
              "<table border=\"1\" class=\"dataframe\">\n",
              "  <thead>\n",
              "    <tr style=\"text-align: right;\">\n",
              "      <th></th>\n",
              "      <th>XVPM</th>\n",
              "      <th>GWYH</th>\n",
              "      <th>TRAT</th>\n",
              "      <th>TLLZ</th>\n",
              "      <th>IGGA</th>\n",
              "      <th>HYKR</th>\n",
              "      <th>EDFS</th>\n",
              "      <th>GUUB</th>\n",
              "      <th>MGJM</th>\n",
              "      <th>JHZC</th>\n",
              "    </tr>\n",
              "  </thead>\n",
              "  <tbody>\n",
              "    <tr>\n",
              "      <th>0</th>\n",
              "      <td>1636.670614</td>\n",
              "      <td>817.988525</td>\n",
              "      <td>2565.995189</td>\n",
              "      <td>358.347163</td>\n",
              "      <td>550.417491</td>\n",
              "      <td>1618.870897</td>\n",
              "      <td>2147.641254</td>\n",
              "      <td>330.727893</td>\n",
              "      <td>1494.878631</td>\n",
              "      <td>845.136088</td>\n",
              "    </tr>\n",
              "    <tr>\n",
              "      <th>1</th>\n",
              "      <td>1013.402760</td>\n",
              "      <td>577.587332</td>\n",
              "      <td>2644.141273</td>\n",
              "      <td>280.428203</td>\n",
              "      <td>1161.873391</td>\n",
              "      <td>2084.107872</td>\n",
              "      <td>853.404981</td>\n",
              "      <td>447.157619</td>\n",
              "      <td>1193.032521</td>\n",
              "      <td>861.081809</td>\n",
              "    </tr>\n",
              "    <tr>\n",
              "      <th>2</th>\n",
              "      <td>1300.035501</td>\n",
              "      <td>820.518697</td>\n",
              "      <td>2025.854469</td>\n",
              "      <td>525.562292</td>\n",
              "      <td>922.206261</td>\n",
              "      <td>2552.355407</td>\n",
              "      <td>818.676686</td>\n",
              "      <td>845.491492</td>\n",
              "      <td>1968.367513</td>\n",
              "      <td>1647.186291</td>\n",
              "    </tr>\n",
              "    <tr>\n",
              "      <th>3</th>\n",
              "      <td>1059.347542</td>\n",
              "      <td>1066.866418</td>\n",
              "      <td>612.000041</td>\n",
              "      <td>480.827789</td>\n",
              "      <td>419.467495</td>\n",
              "      <td>685.666983</td>\n",
              "      <td>852.867810</td>\n",
              "      <td>341.664784</td>\n",
              "      <td>1154.391368</td>\n",
              "      <td>1450.935357</td>\n",
              "    </tr>\n",
              "    <tr>\n",
              "      <th>4</th>\n",
              "      <td>1018.340526</td>\n",
              "      <td>1313.679056</td>\n",
              "      <td>950.622661</td>\n",
              "      <td>724.742174</td>\n",
              "      <td>843.065903</td>\n",
              "      <td>1370.554164</td>\n",
              "      <td>905.469453</td>\n",
              "      <td>658.118202</td>\n",
              "      <td>539.459350</td>\n",
              "      <td>1899.850792</td>\n",
              "    </tr>\n",
              "  </tbody>\n",
              "</table>\n",
              "</div>\n",
              "      <button class=\"colab-df-convert\" onclick=\"convertToInteractive('df-21ffc54a-5288-40f1-be7b-6c9803d6fb0e')\"\n",
              "              title=\"Convert this dataframe to an interactive table.\"\n",
              "              style=\"display:none;\">\n",
              "        \n",
              "  <svg xmlns=\"http://www.w3.org/2000/svg\" height=\"24px\"viewBox=\"0 0 24 24\"\n",
              "       width=\"24px\">\n",
              "    <path d=\"M0 0h24v24H0V0z\" fill=\"none\"/>\n",
              "    <path d=\"M18.56 5.44l.94 2.06.94-2.06 2.06-.94-2.06-.94-.94-2.06-.94 2.06-2.06.94zm-11 1L8.5 8.5l.94-2.06 2.06-.94-2.06-.94L8.5 2.5l-.94 2.06-2.06.94zm10 10l.94 2.06.94-2.06 2.06-.94-2.06-.94-.94-2.06-.94 2.06-2.06.94z\"/><path d=\"M17.41 7.96l-1.37-1.37c-.4-.4-.92-.59-1.43-.59-.52 0-1.04.2-1.43.59L10.3 9.45l-7.72 7.72c-.78.78-.78 2.05 0 2.83L4 21.41c.39.39.9.59 1.41.59.51 0 1.02-.2 1.41-.59l7.78-7.78 2.81-2.81c.8-.78.8-2.07 0-2.86zM5.41 20L4 18.59l7.72-7.72 1.47 1.35L5.41 20z\"/>\n",
              "  </svg>\n",
              "      </button>\n",
              "      \n",
              "  <style>\n",
              "    .colab-df-container {\n",
              "      display:flex;\n",
              "      flex-wrap:wrap;\n",
              "      gap: 12px;\n",
              "    }\n",
              "\n",
              "    .colab-df-convert {\n",
              "      background-color: #E8F0FE;\n",
              "      border: none;\n",
              "      border-radius: 50%;\n",
              "      cursor: pointer;\n",
              "      display: none;\n",
              "      fill: #1967D2;\n",
              "      height: 32px;\n",
              "      padding: 0 0 0 0;\n",
              "      width: 32px;\n",
              "    }\n",
              "\n",
              "    .colab-df-convert:hover {\n",
              "      background-color: #E2EBFA;\n",
              "      box-shadow: 0px 1px 2px rgba(60, 64, 67, 0.3), 0px 1px 3px 1px rgba(60, 64, 67, 0.15);\n",
              "      fill: #174EA6;\n",
              "    }\n",
              "\n",
              "    [theme=dark] .colab-df-convert {\n",
              "      background-color: #3B4455;\n",
              "      fill: #D2E3FC;\n",
              "    }\n",
              "\n",
              "    [theme=dark] .colab-df-convert:hover {\n",
              "      background-color: #434B5C;\n",
              "      box-shadow: 0px 1px 3px 1px rgba(0, 0, 0, 0.15);\n",
              "      filter: drop-shadow(0px 1px 2px rgba(0, 0, 0, 0.3));\n",
              "      fill: #FFFFFF;\n",
              "    }\n",
              "  </style>\n",
              "\n",
              "      <script>\n",
              "        const buttonEl =\n",
              "          document.querySelector('#df-21ffc54a-5288-40f1-be7b-6c9803d6fb0e button.colab-df-convert');\n",
              "        buttonEl.style.display =\n",
              "          google.colab.kernel.accessAllowed ? 'block' : 'none';\n",
              "\n",
              "        async function convertToInteractive(key) {\n",
              "          const element = document.querySelector('#df-21ffc54a-5288-40f1-be7b-6c9803d6fb0e');\n",
              "          const dataTable =\n",
              "            await google.colab.kernel.invokeFunction('convertToInteractive',\n",
              "                                                     [key], {});\n",
              "          if (!dataTable) return;\n",
              "\n",
              "          const docLinkHtml = 'Like what you see? Visit the ' +\n",
              "            '<a target=\"_blank\" href=https://colab.research.google.com/notebooks/data_table.ipynb>data table notebook</a>'\n",
              "            + ' to learn more about interactive tables.';\n",
              "          element.innerHTML = '';\n",
              "          dataTable['output_type'] = 'display_data';\n",
              "          await google.colab.output.renderOutput(dataTable, element);\n",
              "          const docLink = document.createElement('div');\n",
              "          docLink.innerHTML = docLinkHtml;\n",
              "          element.appendChild(docLink);\n",
              "        }\n",
              "      </script>\n",
              "    </div>\n",
              "  </div>\n",
              "  "
            ]
          },
          "metadata": {},
          "execution_count": 22
        }
      ]
    },
    {
      "cell_type": "markdown",
      "metadata": {
        "id": "7DeROxA_NNmg"
      },
      "source": [
        "# Padronize as variáveis\n",
        "\n",
        "Hora de para padronizar as variáveis.\n",
        "\n",
        "Import StandardScaler do Scikit-learn."
      ]
    },
    {
      "cell_type": "markdown",
      "source": [
        "import a lib que faz a normalização dos dados em StandardScaler"
      ],
      "metadata": {
        "id": "H8dTs5P5JkcF"
      }
    },
    {
      "cell_type": "code",
      "metadata": {
        "collapsed": true,
        "id": "pvFdPbkbNNmj"
      },
      "source": [
        " "
      ],
      "execution_count": null,
      "outputs": []
    },
    {
      "cell_type": "markdown",
      "source": [
        "faça a instância do objeto StandardScaler"
      ],
      "metadata": {
        "id": "p6UfyGkbJmg5"
      }
    },
    {
      "cell_type": "code",
      "metadata": {
        "collapsed": true,
        "id": "XFWMZfjVNNml"
      },
      "source": [
        " "
      ],
      "execution_count": null,
      "outputs": []
    },
    {
      "cell_type": "markdown",
      "metadata": {
        "id": "Zo0B7ONVNNmm"
      },
      "source": [
        "Converta as variáveis independentes com o StandardScaler "
      ]
    },
    {
      "cell_type": "code",
      "metadata": {
        "id": "gpMleFuaNNmn",
        "colab": {
          "base_uri": "https://localhost:8080/"
        },
        "outputId": "e46324ad-f8ca-4007-8087-d4d0b23ca9de"
      },
      "source": [],
      "execution_count": null,
      "outputs": [
        {
          "output_type": "execute_result",
          "data": {
            "text/plain": [
              "StandardScaler()"
            ]
          },
          "metadata": {},
          "execution_count": 25
        }
      ]
    },
    {
      "cell_type": "markdown",
      "metadata": {
        "id": "RzrS3aaZNNmo"
      },
      "source": [
        "Use o método .transform () para transformar os parâmetros em uma versão padronizada."
      ]
    },
    {
      "cell_type": "code",
      "metadata": {
        "collapsed": true,
        "id": "DDOG8SElNNmp",
        "colab": {
          "base_uri": "https://localhost:8080/"
        },
        "outputId": "5c8fbd80-5b3c-47d7-a84d-c9f14417aaa4"
      },
      "source": [],
      "execution_count": null,
      "outputs": [
        {
          "output_type": "stream",
          "name": "stdout",
          "text": [
            "[[ 1.56852168 -0.44343461  1.61980773 ... -0.93279392  1.00831307\n",
            "  -1.06962723]\n",
            " [-0.11237594 -1.05657361  1.7419175  ... -0.46186435  0.25832069\n",
            "  -1.04154625]\n",
            " [ 0.66064691 -0.43698145  0.77579285 ...  1.14929806  2.1847836\n",
            "   0.34281129]\n",
            " ...\n",
            " [-0.35889496 -0.97901454  0.83771499 ... -1.51472604 -0.27512225\n",
            "   0.86428656]\n",
            " [ 0.27507999 -0.99239881  0.0303711  ... -0.03623294  0.43668516\n",
            "  -0.21245586]\n",
            " [ 0.62589594  0.79510909  1.12180047 ... -1.25156478 -0.60352946\n",
            "  -0.87985868]]\n"
          ]
        }
      ]
    },
    {
      "cell_type": "markdown",
      "metadata": {
        "id": "ilcVe9ZuNNmp"
      },
      "source": [
        "Converta os parâmetros padronizados em um DataFrame e verifique o cabeçalho desse DataFrame para garantir que a transform() funcionou."
      ]
    },
    {
      "cell_type": "markdown",
      "metadata": {
        "id": "_abK4nAkNNms"
      },
      "source": [
        "# Usando o KNN\n",
        "\n",
        "Importe o KNeighborClassifier do scikit learn.\n",
        "\n",
        "Referência: https://scikit-learn.org/stable/modules/generated/sklearn.neighbors.KNeighborsClassifier.html"
      ]
    },
    {
      "cell_type": "code",
      "metadata": {
        "collapsed": true,
        "id": "npghbeYJNNms"
      },
      "source": [],
      "execution_count": null,
      "outputs": []
    },
    {
      "cell_type": "markdown",
      "metadata": {
        "id": "mFSJ_IHMNNmt"
      },
      "source": [
        "Crie uma instância do modelo KNN com n_neighbors = 1"
      ]
    },
    {
      "cell_type": "code",
      "metadata": {
        "collapsed": true,
        "id": "BwZL6y52NNmt"
      },
      "source": [],
      "execution_count": null,
      "outputs": []
    },
    {
      "cell_type": "markdown",
      "metadata": {
        "id": "vrG-p_faNNmt"
      },
      "source": [
        "Ajuste este modelo KNN aos dados de treinamento."
      ]
    },
    {
      "cell_type": "code",
      "metadata": {
        "id": "ggSH5EwnNNmt",
        "colab": {
          "base_uri": "https://localhost:8080/"
        },
        "outputId": "bd8922ca-f944-4608-a628-4e7ba31d68ad"
      },
      "source": [],
      "execution_count": null,
      "outputs": [
        {
          "output_type": "execute_result",
          "data": {
            "text/plain": [
              "KNeighborsClassifier(n_neighbors=1)"
            ]
          },
          "metadata": {},
          "execution_count": 29
        }
      ]
    },
    {
      "cell_type": "markdown",
      "metadata": {
        "id": "9-5HvW9aNNmu"
      },
      "source": [
        "# Previsões e avaliações\n",
        "Vamos avaliar o nosso modelo KNN!"
      ]
    },
    {
      "cell_type": "markdown",
      "metadata": {
        "id": "3zEBZlCKNNmu"
      },
      "source": [
        "Use o método de previsão para prever valores usando seu modelo KNN e X_test."
      ]
    },
    {
      "cell_type": "code",
      "metadata": {
        "collapsed": true,
        "id": "Bbp24Cx-NNmv"
      },
      "source": [],
      "execution_count": null,
      "outputs": []
    },
    {
      "cell_type": "markdown",
      "metadata": {
        "id": "6PdshNmiNNmv"
      },
      "source": [
        "Crie uma matriz de confusão e um relatório de classificação."
      ]
    },
    {
      "cell_type": "code",
      "metadata": {
        "collapsed": true,
        "id": "TaC68quqNNmv"
      },
      "source": [],
      "execution_count": null,
      "outputs": []
    },
    {
      "cell_type": "code",
      "metadata": {
        "id": "0eSbMAO5NNmv",
        "colab": {
          "base_uri": "https://localhost:8080/",
          "height": 279
        },
        "outputId": "0e156958-f39b-4392-f233-bdf2563d24d9"
      },
      "source": [
        "# https://scikit-learn.org/stable/modules/generated/sklearn.metrics.ConfusionMatrixDisplay.html\n",
        "# cmd = ConfusionMatrixDisplay(cm, display_labels=y_test.unique())\n",
        "# cmd.plot()\n",
        "# plt.show()"
      ],
      "execution_count": null,
      "outputs": [
        {
          "output_type": "display_data",
          "data": {
            "text/plain": [
              "<Figure size 432x288 with 2 Axes>"
            ],
            "image/png": "[encoded data removed]"
          },
          "metadata": {
            "needs_background": "light"
          }
        }
      ]
    },
    {
      "cell_type": "markdown",
      "source": [
        "Analisando o Classification Report\n",
        "\n",
        "Referência: https://scikit-learn.org/stable/modules/generated/sklearn.metrics.classification_report.html"
      ],
      "metadata": {
        "id": "cZYKJBGYFhsR"
      }
    },
    {
      "cell_type": "code",
      "metadata": {
        "id": "mDLXmfRgMLnM",
        "colab": {
          "base_uri": "https://localhost:8080/"
        },
        "outputId": "85272bd4-ad55-4681-8328-0d00c0e2a622"
      },
      "source": [],
      "execution_count": null,
      "outputs": [
        {
          "output_type": "stream",
          "name": "stdout",
          "text": [
            "              precision    recall  f1-score   support\n",
            "\n",
            "           0       0.75      0.76      0.76       148\n",
            "           1       0.77      0.75      0.76       152\n",
            "\n",
            "    accuracy                           0.76       300\n",
            "   macro avg       0.76      0.76      0.76       300\n",
            "weighted avg       0.76      0.76      0.76       300\n",
            "\n"
          ]
        }
      ]
    },
    {
      "cell_type": "markdown",
      "metadata": {
        "id": "mdBIx0i9uIcg"
      },
      "source": [
        "Apresente os valores da Curva ROC\n",
        "\n",
        "Referência: [Curva ROC Sklearn](https://scikit-learn.org/stable/modules/generated/sklearn.metrics.roc_curve.html)"
      ]
    },
    {
      "cell_type": "code",
      "source": [
        "from sklearn.metrics import roc_curve, auc"
      ],
      "metadata": {
        "id": "YmxBU3oQlJbg"
      },
      "execution_count": null,
      "outputs": []
    },
    {
      "cell_type": "code",
      "source": [
        "#calcule as probabilidades de cada label\n",
        "y_scores = #implementação"
      ],
      "metadata": {
        "colab": {
          "base_uri": "https://localhost:8080/"
        },
        "id": "PtISSv52mTQI",
        "outputId": "0c2c708d-9d9c-4b3c-cb37-a798742af3ea"
      },
      "execution_count": null,
      "outputs": [
        {
          "output_type": "stream",
          "name": "stderr",
          "text": [
            "/usr/local/lib/python3.7/dist-packages/sklearn/base.py:444: UserWarning: X has feature names, but KNeighborsClassifier was fitted without feature names\n",
            "  f\"X has feature names, but {self.__class__.__name__} was fitted without\"\n"
          ]
        }
      ]
    },
    {
      "cell_type": "code",
      "source": [
        "#gráfico para plotar a Curva ROC\n",
        "def plot_curva_ROC(y_test, y_scores):\n",
        "  fpr, tpr, threshold = roc_curve(y_test, y_scores[:, 1])\n",
        "  roc_auc = auc(fpr, tpr)\n",
        "\n",
        "  plt.figure(figsize=(10,6))\n",
        "  plt.title('Curva ROC')\n",
        "  plt.plot(fpr, tpr, 'b', label = 'AUC = %0.2f' % roc_auc)\n",
        "  plt.legend(loc = 'lower right')\n",
        "  plt.plot([0, 1], [0, 1],'r--')\n",
        "  plt.xlim([0, 1])\n",
        "  plt.ylim([0, 1])\n",
        "  plt.ylabel('Taxa de Verdadeiro Positivo (TPR)')\n",
        "  plt.xlabel('Taxa de Falso Positivo (FPR)')\n",
        "  plt.show()"
      ],
      "metadata": {
        "id": "35AQJgXKlSCE"
      },
      "execution_count": null,
      "outputs": []
    },
    {
      "cell_type": "code",
      "source": [
        "plot_curva_ROC(y_test, y_scores)"
      ],
      "metadata": {
        "colab": {
          "base_uri": "https://localhost:8080/",
          "height": 404
        },
        "id": "EWQJ1M_3qYPp",
        "outputId": "40aee1c1-e9a1-4f1b-ca83-29c78184d1f6"
      },
      "execution_count": null,
      "outputs": [
        {
          "output_type": "display_data",
          "data": {
            "text/plain": [
              "<Figure size 720x432 with 1 Axes>"
            ],
            "image/png": "[encoded data removed]"
          },
          "metadata": {
            "needs_background": "light"
          }
        }
      ]
    },
    {
      "cell_type": "markdown",
      "metadata": {
        "id": "hhrIdwANNNmw"
      },
      "source": [
        "# Escolhendo o valor K"
      ]
    },
    {
      "cell_type": "markdown",
      "source": [
        "Vamos continuar usando o método do cotovelo para escolher um bom valor K!\n",
        "\n",
        "Crie um loop for que treine vários modelos KNN com valores k diferentes e, em seguida, mantenha um registro do error_rate para cada um desses modelos com uma lista. Consulte o notebook se você estiver confuso nesta etapa."
      ],
      "metadata": {
        "id": "GaNwzxLeF68j"
      }
    },
    {
      "cell_type": "markdown",
      "source": [
        "crie uma função para treinar o modelo k-NN e que recebe o valor de k de fora iterativa"
      ],
      "metadata": {
        "id": "2wONgs0rJxa6"
      }
    },
    {
      "cell_type": "code",
      "source": [
        "def train_knn(X_train, X_test, y_train):\n",
        "  #fit\n",
        "  #predict\n",
        "  #return score/f1/recall"
      ],
      "metadata": {
        "id": "HEDBLdnSGCR1"
      },
      "execution_count": null,
      "outputs": []
    },
    {
      "cell_type": "markdown",
      "source": [
        "Armazene os valores de erro para verificar a taxa de erro"
      ],
      "metadata": {
        "id": "Cm44cgCAJ7GZ"
      }
    },
    {
      "cell_type": "code",
      "metadata": {
        "collapsed": true,
        "id": "mj_69Yh-NNmx",
        "colab": {
          "base_uri": "https://localhost:8080/"
        },
        "outputId": "2f8c4c71-a937-47ad-dc15-9c210ea830fd"
      },
      "source": [
        "error_rate = []\n",
        "\n",
        "# Will take some time\n",
        "#for i in range(1,40):\n",
        "    #pred_i = train_knn(X_train, X_test, y_train, y_test, i+1)\n",
        "    #error_rate.append(np.mean(pred_i != y_test))"
      ],
      "execution_count": null,
      "outputs": [
        {
          "output_type": "stream",
          "name": "stdout",
          "text": [
            "Treinando o k-NN com k=2\n",
            "Treinando o k-NN com k=3\n",
            "Treinando o k-NN com k=4\n",
            "Treinando o k-NN com k=5\n",
            "Treinando o k-NN com k=6\n",
            "Treinando o k-NN com k=7\n",
            "Treinando o k-NN com k=8\n",
            "Treinando o k-NN com k=9\n",
            "Treinando o k-NN com k=10\n",
            "Treinando o k-NN com k=11\n",
            "Treinando o k-NN com k=12\n",
            "Treinando o k-NN com k=13\n",
            "Treinando o k-NN com k=14\n",
            "Treinando o k-NN com k=15\n",
            "Treinando o k-NN com k=16\n",
            "Treinando o k-NN com k=17\n",
            "Treinando o k-NN com k=18\n",
            "Treinando o k-NN com k=19\n",
            "Treinando o k-NN com k=20\n",
            "Treinando o k-NN com k=21\n",
            "Treinando o k-NN com k=22\n",
            "Treinando o k-NN com k=23\n",
            "Treinando o k-NN com k=24\n",
            "Treinando o k-NN com k=25\n",
            "Treinando o k-NN com k=26\n",
            "Treinando o k-NN com k=27\n",
            "Treinando o k-NN com k=28\n",
            "Treinando o k-NN com k=29\n",
            "Treinando o k-NN com k=30\n",
            "Treinando o k-NN com k=31\n",
            "Treinando o k-NN com k=32\n",
            "Treinando o k-NN com k=33\n",
            "Treinando o k-NN com k=34\n",
            "Treinando o k-NN com k=35\n",
            "Treinando o k-NN com k=36\n",
            "Treinando o k-NN com k=37\n",
            "Treinando o k-NN com k=38\n",
            "Treinando o k-NN com k=39\n",
            "Treinando o k-NN com k=40\n"
          ]
        }
      ]
    },
    {
      "cell_type": "markdown",
      "metadata": {
        "id": "ddMnpln8NNmx"
      },
      "source": [
        "Agora crie o seguinte gráfico usando as informações do seu loop."
      ]
    },
    {
      "cell_type": "code",
      "metadata": {
        "id": "RSVL2Q0BMJw1",
        "colab": {
          "base_uri": "https://localhost:8080/",
          "height": 404
        },
        "outputId": "dacc1985-17e6-43f0-fabb-802ed6ecf6d3"
      },
      "source": [],
      "execution_count": null,
      "outputs": [
        {
          "output_type": "display_data",
          "data": {
            "text/plain": [
              "<Figure size 720x432 with 1 Axes>"
            ],
            "image/png": "[encoded data removed]"
          },
          "metadata": {
            "needs_background": "light"
          }
        }
      ]
    },
    {
      "cell_type": "code",
      "source": [
        "res_score = []\n",
        "\n",
        "# Will take some time\n",
        "#for i in range(1,41):\n",
        "    #pred_i = train_knn(X_train_scaled, X_test_scaled, y_train, i)\n",
        "    #res = implementação\n",
        "    #res_score.append(res)"
      ],
      "metadata": {
        "colab": {
          "base_uri": "https://localhost:8080/"
        },
        "id": "uG41ogeIqr2P",
        "outputId": "61402157-9bcd-45aa-a1b5-2333fc27f4fa"
      },
      "execution_count": null,
      "outputs": [
        {
          "output_type": "stream",
          "name": "stdout",
          "text": [
            "Treinando o k-NN com k=1\n",
            "Treinando o k-NN com k=2\n",
            "Treinando o k-NN com k=3\n",
            "Treinando o k-NN com k=4\n",
            "Treinando o k-NN com k=5\n",
            "Treinando o k-NN com k=6\n",
            "Treinando o k-NN com k=7\n",
            "Treinando o k-NN com k=8\n",
            "Treinando o k-NN com k=9\n",
            "Treinando o k-NN com k=10\n",
            "Treinando o k-NN com k=11\n",
            "Treinando o k-NN com k=12\n",
            "Treinando o k-NN com k=13\n",
            "Treinando o k-NN com k=14\n",
            "Treinando o k-NN com k=15\n",
            "Treinando o k-NN com k=16\n",
            "Treinando o k-NN com k=17\n",
            "Treinando o k-NN com k=18\n",
            "Treinando o k-NN com k=19\n",
            "Treinando o k-NN com k=20\n",
            "Treinando o k-NN com k=21\n",
            "Treinando o k-NN com k=22\n",
            "Treinando o k-NN com k=23\n",
            "Treinando o k-NN com k=24\n",
            "Treinando o k-NN com k=25\n",
            "Treinando o k-NN com k=26\n",
            "Treinando o k-NN com k=27\n",
            "Treinando o k-NN com k=28\n",
            "Treinando o k-NN com k=29\n",
            "Treinando o k-NN com k=30\n",
            "Treinando o k-NN com k=31\n",
            "Treinando o k-NN com k=32\n",
            "Treinando o k-NN com k=33\n",
            "Treinando o k-NN com k=34\n",
            "Treinando o k-NN com k=35\n",
            "Treinando o k-NN com k=36\n",
            "Treinando o k-NN com k=37\n",
            "Treinando o k-NN com k=38\n",
            "Treinando o k-NN com k=39\n",
            "Treinando o k-NN com k=40\n"
          ]
        }
      ]
    },
    {
      "cell_type": "code",
      "source": [],
      "metadata": {
        "colab": {
          "base_uri": "https://localhost:8080/",
          "height": 404
        },
        "id": "S0fyvUuuWJHe",
        "outputId": "35e3957b-b5f4-4f1d-be74-c840e7e9884d"
      },
      "execution_count": null,
      "outputs": [
        {
          "output_type": "display_data",
          "data": {
            "text/plain": [
              "<Figure size 720x432 with 1 Axes>"
            ],
            "image/png": "[encoded data removed]"
          },
          "metadata": {
            "needs_background": "light"
          }
        }
      ]
    },
    {
      "cell_type": "markdown",
      "metadata": {
        "id": "RG3xclsRNNmy"
      },
      "source": [
        "## Treine seu modelo novamente com novo valor K"
      ]
    },
    {
      "cell_type": "markdown",
      "source": [
        "Treine novamente seu modelo com o melhor valor K (até você para decidir o que deseja) e re-faça o relatório de classificação e a matriz de confusão."
      ],
      "metadata": {
        "id": "t5Lv38gRHSju"
      }
    },
    {
      "cell_type": "code",
      "metadata": {
        "id": "73UoXUxGMHQf",
        "colab": {
          "base_uri": "https://localhost:8080/"
        },
        "outputId": "1db461dc-369c-4dd0-8551-6463239bd4d6"
      },
      "source": [
        "print('WITH K=9')"
      ],
      "execution_count": null,
      "outputs": [
        {
          "output_type": "stream",
          "name": "stdout",
          "text": [
            "WITH K=9\n",
            "              precision    recall  f1-score   support\n",
            "\n",
            "           0       0.81      0.78      0.80       148\n",
            "           1       0.80      0.82      0.81       152\n",
            "\n",
            "    accuracy                           0.80       300\n",
            "   macro avg       0.80      0.80      0.80       300\n",
            "weighted avg       0.80      0.80      0.80       300\n",
            "\n"
          ]
        }
      ]
    },
    {
      "cell_type": "code",
      "source": [],
      "metadata": {
        "colab": {
          "base_uri": "https://localhost:8080/",
          "height": 279
        },
        "id": "F7bOSP2XHaY7",
        "outputId": "a12dece6-b587-4276-c296-7b99c812af71"
      },
      "execution_count": null,
      "outputs": [
        {
          "output_type": "display_data",
          "data": {
            "text/plain": [
              "<Figure size 432x288 with 2 Axes>"
            ],
            "image/png": "[encoded data removed]"
          },
          "metadata": {
            "needs_background": "light"
          }
        }
      ]
    },
    {
      "cell_type": "code",
      "source": [
        "y_scores_k9 = #calcule as probabildades"
      ],
      "metadata": {
        "colab": {
          "base_uri": "https://localhost:8080/"
        },
        "id": "swdvJ9fqrSUo",
        "outputId": "17d3952e-672b-4eba-cab9-aa4fe2c75517"
      },
      "execution_count": null,
      "outputs": [
        {
          "output_type": "stream",
          "name": "stderr",
          "text": [
            "/usr/local/lib/python3.7/dist-packages/sklearn/base.py:444: UserWarning: X has feature names, but KNeighborsClassifier was fitted without feature names\n",
            "  f\"X has feature names, but {self.__class__.__name__} was fitted without\"\n"
          ]
        }
      ]
    },
    {
      "cell_type": "code",
      "source": [
        "plot_curva_ROC(y_test, y_scores_k9)"
      ],
      "metadata": {
        "colab": {
          "base_uri": "https://localhost:8080/",
          "height": 404
        },
        "id": "q13ZZEFIrZxA",
        "outputId": "b63cc6d8-87e8-483d-f930-a2727baa5003"
      },
      "execution_count": null,
      "outputs": [
        {
          "output_type": "display_data",
          "data": {
            "text/plain": [
              "<Figure size 720x432 with 1 Axes>"
            ],
            "image/png": "[encoded data removed]"
          },
          "metadata": {
            "needs_background": "light"
          }
        }
      ]
    },
    {
      "cell_type": "code",
      "metadata": {
        "id": "wxluIs4sNNmz",
        "colab": {
          "base_uri": "https://localhost:8080/"
        },
        "outputId": "c3e0a7cb-d255-4ced-eb6d-fcd9591bb97d"
      },
      "source": [
        "print('WITH K=26')"
      ],
      "execution_count": null,
      "outputs": [
        {
          "output_type": "stream",
          "name": "stdout",
          "text": [
            "WITH K=26\n",
            "              precision    recall  f1-score   support\n",
            "\n",
            "           0       0.81      0.78      0.80       148\n",
            "           1       0.80      0.82      0.81       152\n",
            "\n",
            "    accuracy                           0.80       300\n",
            "   macro avg       0.80      0.80      0.80       300\n",
            "weighted avg       0.80      0.80      0.80       300\n",
            "\n"
          ]
        }
      ]
    },
    {
      "cell_type": "code",
      "metadata": {
        "id": "dv9GdL-DED8m",
        "colab": {
          "base_uri": "https://localhost:8080/",
          "height": 279
        },
        "outputId": "d232924c-81c6-45ae-d2de-46dd6e1eaec8"
      },
      "source": [],
      "execution_count": null,
      "outputs": [
        {
          "output_type": "display_data",
          "data": {
            "text/plain": [
              "<Figure size 432x288 with 2 Axes>"
            ],
            "image/png": "[encoded data removed]"
          },
          "metadata": {
            "needs_background": "light"
          }
        }
      ]
    },
    {
      "cell_type": "code",
      "source": [
        "y_scores_k20 = #calcule as probabilidades"
      ],
      "metadata": {
        "colab": {
          "base_uri": "https://localhost:8080/"
        },
        "id": "9Njnc-Kgr3t6",
        "outputId": "86657aee-b4db-4805-a997-48908d1ff9fc"
      },
      "execution_count": null,
      "outputs": [
        {
          "output_type": "stream",
          "name": "stderr",
          "text": [
            "/usr/local/lib/python3.7/dist-packages/sklearn/base.py:444: UserWarning: X has feature names, but KNeighborsClassifier was fitted without feature names\n",
            "  f\"X has feature names, but {self.__class__.__name__} was fitted without\"\n"
          ]
        }
      ]
    },
    {
      "cell_type": "code",
      "source": [
        "plot_curva_ROC(y_test, y_scores_k20)"
      ],
      "metadata": {
        "colab": {
          "base_uri": "https://localhost:8080/",
          "height": 404
        },
        "id": "5EgsC5OEr-ka",
        "outputId": "2fff567b-99ef-4b05-a092-295470d32b59"
      },
      "execution_count": null,
      "outputs": [
        {
          "output_type": "display_data",
          "data": {
            "text/plain": [
              "<Figure size 720x432 with 1 Axes>"
            ],
            "image/png": "[encoded data removed]"
          },
          "metadata": {
            "needs_background": "light"
          }
        }
      ]
    }
  ]
}