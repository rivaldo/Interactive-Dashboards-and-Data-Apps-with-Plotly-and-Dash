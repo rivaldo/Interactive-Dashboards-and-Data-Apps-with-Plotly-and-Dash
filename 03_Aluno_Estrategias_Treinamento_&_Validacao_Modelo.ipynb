{
  "nbformat": 4,
  "nbformat_minor": 0,
  "metadata": {
    "kernelspec": {
      "display_name": "Python 3",
      "language": "python",
      "name": "python3"
    },
    "language_info": {
      "codemirror_mode": {
        "name": "ipython",
        "version": 3
      },
      "file_extension": ".py",
      "mimetype": "text/x-python",
      "name": "python",
      "nbconvert_exporter": "python",
      "pygments_lexer": "ipython3",
      "version": "3.6.1"
    },
    "colab": {
      "provenance": [],
      "collapsed_sections": [],
      "include_colab_link": true
    }
  },
  "cells": [
    {
      "cell_type": "markdown",
      "metadata": {
        "id": "view-in-github",
        "colab_type": "text"
      },
      "source": [
        "<a href=\"https://colab.research.google.com/github/rivaldo/Interactive-Dashboards-and-Data-Apps-with-Plotly-and-Dash/blob/master/03_Aluno_Estrategias_Treinamento_%26_Validacao_Modelo.ipynb\" target=\"_parent\"><img src=\"https://colab.research.google.com/assets/colab-badge.svg\" alt=\"Open In Colab\"/></a>"
      ]
    },
    {
      "cell_type": "markdown",
      "metadata": {
        "id": "OIYx2HmPNNmP"
      },
      "source": [
        "# Estratégias de Treinamento - Exercício\n",
        "\n",
        "## Importar bibliotecas\n",
        "** Importe pandas, seaborn e as bibliotecas usuais. **"
      ]
    },
    {
      "cell_type": "code",
      "metadata": {
        "collapsed": true,
        "id": "YyOOxWx_NNmY"
      },
      "source": [
        "import pandas as pd\n",
        "import numpy as np\n",
        "import matplotlib.pyplot as plt\n",
        "import seaborn as sns"
      ],
      "execution_count": null,
      "outputs": []
    },
    {
      "cell_type": "code",
      "source": [
        "%matplotlib inline"
      ],
      "metadata": {
        "id": "IHVd3Ixb4Cg2"
      },
      "execution_count": null,
      "outputs": []
    },
    {
      "cell_type": "markdown",
      "source": [
        "# Usando o algoritmo PCA para diminuir a dimensionalidade"
      ],
      "metadata": {
        "id": "RhY-viCu_lJ_"
      }
    },
    {
      "cell_type": "markdown",
      "source": [
        "\n",
        "\n",
        "1.   Gere uma base de dados com make_classification (https://scikit-learn.org/stable/modules/generated/sklearn.datasets.make_classification.html#sklearn.datasets.make_classification)\n",
        "4.   Faça a separação em treino e teste\n",
        "5.   Utilize o algoritmo PCA https://scikit-learn.org/stable/modules/generated/sklearn.decomposition.PCA.html?highlight=pca#sklearn.decomposition.PCA e gere mais dois conjuntos de dados com 10 e 5 features, além dos dados originais\n",
        "6.   Treine modelos de k-NN com os dados originais e os transformados\n",
        "6.   Analise os resultados\n"
      ],
      "metadata": {
        "id": "ybPxQWn8mNlE"
      }
    },
    {
      "cell_type": "code",
      "source": [
        "from sklearn.datasets import make_classification\n",
        "\n",
        "X, y = make_classification(\n",
        "    n_samples=1000,\n",
        "    n_features=20,\n",
        "    n_informative=3,\n",
        "    n_redundant=0,\n",
        "    n_repeated=0,\n",
        "    n_classes=2,\n",
        "    random_state=0,\n",
        "    shuffle=False,\n",
        ")"
      ],
      "metadata": {
        "id": "KbaTnkklAcWa"
      },
      "execution_count": null,
      "outputs": []
    },
    {
      "cell_type": "markdown",
      "metadata": {
        "id": "WmfFK4ukQA1a"
      },
      "source": [
        "# Divisão treino-teste\n",
        "\n",
        "Use o método train_test_split para dividir seus dados em um conjunto treino e teste."
      ]
    },
    {
      "cell_type": "code",
      "metadata": {
        "collapsed": true,
        "id": "IK7YQMfDQA1b"
      },
      "source": [
        "from sklearn.model_selection import train_test_split"
      ],
      "execution_count": null,
      "outputs": []
    },
    {
      "cell_type": "code",
      "metadata": {
        "collapsed": true,
        "id": "FNEzKKgAQA1d"
      },
      "source": [],
      "execution_count": null,
      "outputs": []
    },
    {
      "cell_type": "code",
      "source": [
        "pd.DataFrame(X_train)"
      ],
      "metadata": {
        "colab": {
          "base_uri": "https://localhost:8080/",
          "height": 468
        },
        "id": "uu5pHsEYQNRl",
        "outputId": "7faed9cc-4002-4d99-d98e-a355d45941e9"
      },
      "execution_count": null,
      "outputs": [
        {
          "output_type": "execute_result",
          "data": {
            "text/plain": [
              "           0         1         2         3         4         5         6   \\\n",
              "0   -0.126584 -1.556869 -0.393826 -0.537029  0.244593  0.909225 -0.335435   \n",
              "1   -0.560851  0.007607 -1.250866  0.790119 -0.971438  2.171174  1.474813   \n",
              "2   -0.141132 -0.988946  1.703233 -1.191640  0.003872  0.052027  1.494709   \n",
              "3   -0.751421  0.678175 -1.145951 -0.618201 -1.509645  0.453928  1.188726   \n",
              "4   -1.287418 -0.570223  1.944239  0.504160  1.469254  1.011170  0.698313   \n",
              "..        ...       ...       ...       ...       ...       ...       ...   \n",
              "695  1.259228  0.093750 -0.170545 -0.145614 -0.305567  0.022338  0.033837   \n",
              "696 -0.167795 -1.064876  0.548325  0.739557  1.040714 -0.821612 -0.690663   \n",
              "697  1.102762  1.617529 -0.137752 -1.836307  1.447674 -0.261039 -0.631118   \n",
              "698  0.460563  0.304735  1.743974 -0.164564 -1.225236 -1.031973 -1.476970   \n",
              "699  1.095820  2.256124  0.607349 -0.293746 -0.057139 -0.861931 -1.753300   \n",
              "\n",
              "           7         8         9         10        11        12        13  \\\n",
              "0   -0.926489  0.030067 -1.041111 -1.894451  0.009549 -0.539616  0.335386   \n",
              "1    2.019364 -0.887596  1.155326  1.903693 -1.628754 -1.335810 -0.057917   \n",
              "2    0.266196 -0.594795  0.060193  2.255620 -0.780041 -1.034345  0.664241   \n",
              "3    1.441281 -1.256541  1.095307 -0.132422  0.088595 -0.069472 -0.083308   \n",
              "4   -0.430206  0.986950  0.343508  0.679335 -0.869308 -1.079720  1.243285   \n",
              "..        ...       ...       ...       ...       ...       ...       ...   \n",
              "695 -1.033990  1.670193 -2.631995 -0.652061 -0.482154 -0.042979 -0.776220   \n",
              "696  0.323779  0.196112  1.045185  0.573334  0.426461  0.164445 -0.550351   \n",
              "697  0.814594 -0.400019  0.197014 -1.418650  1.246415 -0.612698  0.062948   \n",
              "698 -0.771503 -1.015393  1.572609 -1.094883  0.622019  0.214341  0.145393   \n",
              "699  0.777668 -2.061508 -1.475895  0.769902  0.570931  0.647793  1.056050   \n",
              "\n",
              "           14        15        16        17        18        19  \n",
              "0   -0.610495  0.725847 -0.266054 -0.298323  0.981439  0.214337  \n",
              "1   -0.558684  0.310031  0.812405  0.561879  0.550139  0.244694  \n",
              "2    0.161702  0.121052  0.278309 -1.236594 -0.747080 -0.397337  \n",
              "3   -1.232816  0.427011  0.882100 -1.373310  1.125968 -0.062110  \n",
              "4    1.408410  0.094659 -0.417223 -0.898552  0.436590 -0.233951  \n",
              "..        ...       ...       ...       ...       ...       ...  \n",
              "695  2.106576 -0.489806 -0.448134 -0.737414  1.242988 -0.399053  \n",
              "696 -0.788338  0.347695  0.557746 -1.679785 -0.758403  0.297600  \n",
              "697 -0.794200 -1.133524  0.515778 -0.076092  0.226114  0.516449  \n",
              "698  0.699119 -0.303463 -0.375053  0.381186 -2.088375  0.004993  \n",
              "699  1.279353 -0.676138 -0.374750 -2.472639  1.580265 -0.545632  \n",
              "\n",
              "[700 rows x 20 columns]"
            ],
            "text/html": [
              "\n",
              "  <div id=\"df-84c5cad4-3af5-4171-b993-db635e275050\">\n",
              "    <div class=\"colab-df-container\">\n",
              "      <div>\n",
              "<style scoped>\n",
              "    .dataframe tbody tr th:only-of-type {\n",
              "        vertical-align: middle;\n",
              "    }\n",
              "\n",
              "    .dataframe tbody tr th {\n",
              "        vertical-align: top;\n",
              "    }\n",
              "\n",
              "    .dataframe thead th {\n",
              "        text-align: right;\n",
              "    }\n",
              "</style>\n",
              "<table border=\"1\" class=\"dataframe\">\n",
              "  <thead>\n",
              "    <tr style=\"text-align: right;\">\n",
              "      <th></th>\n",
              "      <th>0</th>\n",
              "      <th>1</th>\n",
              "      <th>2</th>\n",
              "      <th>3</th>\n",
              "      <th>4</th>\n",
              "      <th>5</th>\n",
              "      <th>6</th>\n",
              "      <th>7</th>\n",
              "      <th>8</th>\n",
              "      <th>9</th>\n",
              "      <th>10</th>\n",
              "      <th>11</th>\n",
              "      <th>12</th>\n",
              "      <th>13</th>\n",
              "      <th>14</th>\n",
              "      <th>15</th>\n",
              "      <th>16</th>\n",
              "      <th>17</th>\n",
              "      <th>18</th>\n",
              "      <th>19</th>\n",
              "    </tr>\n",
              "  </thead>\n",
              "  <tbody>\n",
              "    <tr>\n",
              "      <th>0</th>\n",
              "      <td>-0.126584</td>\n",
              "      <td>-1.556869</td>\n",
              "      <td>-0.393826</td>\n",
              "      <td>-0.537029</td>\n",
              "      <td>0.244593</td>\n",
              "      <td>0.909225</td>\n",
              "      <td>-0.335435</td>\n",
              "      <td>-0.926489</td>\n",
              "      <td>0.030067</td>\n",
              "      <td>-1.041111</td>\n",
              "      <td>-1.894451</td>\n",
              "      <td>0.009549</td>\n",
              "      <td>-0.539616</td>\n",
              "      <td>0.335386</td>\n",
              "      <td>-0.610495</td>\n",
              "      <td>0.725847</td>\n",
              "      <td>-0.266054</td>\n",
              "      <td>-0.298323</td>\n",
              "      <td>0.981439</td>\n",
              "      <td>0.214337</td>\n",
              "    </tr>\n",
              "    <tr>\n",
              "      <th>1</th>\n",
              "      <td>-0.560851</td>\n",
              "      <td>0.007607</td>\n",
              "      <td>-1.250866</td>\n",
              "      <td>0.790119</td>\n",
              "      <td>-0.971438</td>\n",
              "      <td>2.171174</td>\n",
              "      <td>1.474813</td>\n",
              "      <td>2.019364</td>\n",
              "      <td>-0.887596</td>\n",
              "      <td>1.155326</td>\n",
              "      <td>1.903693</td>\n",
              "      <td>-1.628754</td>\n",
              "      <td>-1.335810</td>\n",
              "      <td>-0.057917</td>\n",
              "      <td>-0.558684</td>\n",
              "      <td>0.310031</td>\n",
              "      <td>0.812405</td>\n",
              "      <td>0.561879</td>\n",
              "      <td>0.550139</td>\n",
              "      <td>0.244694</td>\n",
              "    </tr>\n",
              "    <tr>\n",
              "      <th>2</th>\n",
              "      <td>-0.141132</td>\n",
              "      <td>-0.988946</td>\n",
              "      <td>1.703233</td>\n",
              "      <td>-1.191640</td>\n",
              "      <td>0.003872</td>\n",
              "      <td>0.052027</td>\n",
              "      <td>1.494709</td>\n",
              "      <td>0.266196</td>\n",
              "      <td>-0.594795</td>\n",
              "      <td>0.060193</td>\n",
              "      <td>2.255620</td>\n",
              "      <td>-0.780041</td>\n",
              "      <td>-1.034345</td>\n",
              "      <td>0.664241</td>\n",
              "      <td>0.161702</td>\n",
              "      <td>0.121052</td>\n",
              "      <td>0.278309</td>\n",
              "      <td>-1.236594</td>\n",
              "      <td>-0.747080</td>\n",
              "      <td>-0.397337</td>\n",
              "    </tr>\n",
              "    <tr>\n",
              "      <th>3</th>\n",
              "      <td>-0.751421</td>\n",
              "      <td>0.678175</td>\n",
              "      <td>-1.145951</td>\n",
              "      <td>-0.618201</td>\n",
              "      <td>-1.509645</td>\n",
              "      <td>0.453928</td>\n",
              "      <td>1.188726</td>\n",
              "      <td>1.441281</td>\n",
              "      <td>-1.256541</td>\n",
              "      <td>1.095307</td>\n",
              "      <td>-0.132422</td>\n",
              "      <td>0.088595</td>\n",
              "      <td>-0.069472</td>\n",
              "      <td>-0.083308</td>\n",
              "      <td>-1.232816</td>\n",
              "      <td>0.427011</td>\n",
              "      <td>0.882100</td>\n",
              "      <td>-1.373310</td>\n",
              "      <td>1.125968</td>\n",
              "      <td>-0.062110</td>\n",
              "    </tr>\n",
              "    <tr>\n",
              "      <th>4</th>\n",
              "      <td>-1.287418</td>\n",
              "      <td>-0.570223</td>\n",
              "      <td>1.944239</td>\n",
              "      <td>0.504160</td>\n",
              "      <td>1.469254</td>\n",
              "      <td>1.011170</td>\n",
              "      <td>0.698313</td>\n",
              "      <td>-0.430206</td>\n",
              "      <td>0.986950</td>\n",
              "      <td>0.343508</td>\n",
              "      <td>0.679335</td>\n",
              "      <td>-0.869308</td>\n",
              "      <td>-1.079720</td>\n",
              "      <td>1.243285</td>\n",
              "      <td>1.408410</td>\n",
              "      <td>0.094659</td>\n",
              "      <td>-0.417223</td>\n",
              "      <td>-0.898552</td>\n",
              "      <td>0.436590</td>\n",
              "      <td>-0.233951</td>\n",
              "    </tr>\n",
              "    <tr>\n",
              "      <th>...</th>\n",
              "      <td>...</td>\n",
              "      <td>...</td>\n",
              "      <td>...</td>\n",
              "      <td>...</td>\n",
              "      <td>...</td>\n",
              "      <td>...</td>\n",
              "      <td>...</td>\n",
              "      <td>...</td>\n",
              "      <td>...</td>\n",
              "      <td>...</td>\n",
              "      <td>...</td>\n",
              "      <td>...</td>\n",
              "      <td>...</td>\n",
              "      <td>...</td>\n",
              "      <td>...</td>\n",
              "      <td>...</td>\n",
              "      <td>...</td>\n",
              "      <td>...</td>\n",
              "      <td>...</td>\n",
              "      <td>...</td>\n",
              "    </tr>\n",
              "    <tr>\n",
              "      <th>695</th>\n",
              "      <td>1.259228</td>\n",
              "      <td>0.093750</td>\n",
              "      <td>-0.170545</td>\n",
              "      <td>-0.145614</td>\n",
              "      <td>-0.305567</td>\n",
              "      <td>0.022338</td>\n",
              "      <td>0.033837</td>\n",
              "      <td>-1.033990</td>\n",
              "      <td>1.670193</td>\n",
              "      <td>-2.631995</td>\n",
              "      <td>-0.652061</td>\n",
              "      <td>-0.482154</td>\n",
              "      <td>-0.042979</td>\n",
              "      <td>-0.776220</td>\n",
              "      <td>2.106576</td>\n",
              "      <td>-0.489806</td>\n",
              "      <td>-0.448134</td>\n",
              "      <td>-0.737414</td>\n",
              "      <td>1.242988</td>\n",
              "      <td>-0.399053</td>\n",
              "    </tr>\n",
              "    <tr>\n",
              "      <th>696</th>\n",
              "      <td>-0.167795</td>\n",
              "      <td>-1.064876</td>\n",
              "      <td>0.548325</td>\n",
              "      <td>0.739557</td>\n",
              "      <td>1.040714</td>\n",
              "      <td>-0.821612</td>\n",
              "      <td>-0.690663</td>\n",
              "      <td>0.323779</td>\n",
              "      <td>0.196112</td>\n",
              "      <td>1.045185</td>\n",
              "      <td>0.573334</td>\n",
              "      <td>0.426461</td>\n",
              "      <td>0.164445</td>\n",
              "      <td>-0.550351</td>\n",
              "      <td>-0.788338</td>\n",
              "      <td>0.347695</td>\n",
              "      <td>0.557746</td>\n",
              "      <td>-1.679785</td>\n",
              "      <td>-0.758403</td>\n",
              "      <td>0.297600</td>\n",
              "    </tr>\n",
              "    <tr>\n",
              "      <th>697</th>\n",
              "      <td>1.102762</td>\n",
              "      <td>1.617529</td>\n",
              "      <td>-0.137752</td>\n",
              "      <td>-1.836307</td>\n",
              "      <td>1.447674</td>\n",
              "      <td>-0.261039</td>\n",
              "      <td>-0.631118</td>\n",
              "      <td>0.814594</td>\n",
              "      <td>-0.400019</td>\n",
              "      <td>0.197014</td>\n",
              "      <td>-1.418650</td>\n",
              "      <td>1.246415</td>\n",
              "      <td>-0.612698</td>\n",
              "      <td>0.062948</td>\n",
              "      <td>-0.794200</td>\n",
              "      <td>-1.133524</td>\n",
              "      <td>0.515778</td>\n",
              "      <td>-0.076092</td>\n",
              "      <td>0.226114</td>\n",
              "      <td>0.516449</td>\n",
              "    </tr>\n",
              "    <tr>\n",
              "      <th>698</th>\n",
              "      <td>0.460563</td>\n",
              "      <td>0.304735</td>\n",
              "      <td>1.743974</td>\n",
              "      <td>-0.164564</td>\n",
              "      <td>-1.225236</td>\n",
              "      <td>-1.031973</td>\n",
              "      <td>-1.476970</td>\n",
              "      <td>-0.771503</td>\n",
              "      <td>-1.015393</td>\n",
              "      <td>1.572609</td>\n",
              "      <td>-1.094883</td>\n",
              "      <td>0.622019</td>\n",
              "      <td>0.214341</td>\n",
              "      <td>0.145393</td>\n",
              "      <td>0.699119</td>\n",
              "      <td>-0.303463</td>\n",
              "      <td>-0.375053</td>\n",
              "      <td>0.381186</td>\n",
              "      <td>-2.088375</td>\n",
              "      <td>0.004993</td>\n",
              "    </tr>\n",
              "    <tr>\n",
              "      <th>699</th>\n",
              "      <td>1.095820</td>\n",
              "      <td>2.256124</td>\n",
              "      <td>0.607349</td>\n",
              "      <td>-0.293746</td>\n",
              "      <td>-0.057139</td>\n",
              "      <td>-0.861931</td>\n",
              "      <td>-1.753300</td>\n",
              "      <td>0.777668</td>\n",
              "      <td>-2.061508</td>\n",
              "      <td>-1.475895</td>\n",
              "      <td>0.769902</td>\n",
              "      <td>0.570931</td>\n",
              "      <td>0.647793</td>\n",
              "      <td>1.056050</td>\n",
              "      <td>1.279353</td>\n",
              "      <td>-0.676138</td>\n",
              "      <td>-0.374750</td>\n",
              "      <td>-2.472639</td>\n",
              "      <td>1.580265</td>\n",
              "      <td>-0.545632</td>\n",
              "    </tr>\n",
              "  </tbody>\n",
              "</table>\n",
              "<p>700 rows × 20 columns</p>\n",
              "</div>\n",
              "      <button class=\"colab-df-convert\" onclick=\"convertToInteractive('df-84c5cad4-3af5-4171-b993-db635e275050')\"\n",
              "              title=\"Convert this dataframe to an interactive table.\"\n",
              "              style=\"display:none;\">\n",
              "        \n",
              "  <svg xmlns=\"http://www.w3.org/2000/svg\" height=\"24px\"viewBox=\"0 0 24 24\"\n",
              "       width=\"24px\">\n",
              "    <path d=\"M0 0h24v24H0V0z\" fill=\"none\"/>\n",
              "    <path d=\"M18.56 5.44l.94 2.06.94-2.06 2.06-.94-2.06-.94-.94-2.06-.94 2.06-2.06.94zm-11 1L8.5 8.5l.94-2.06 2.06-.94-2.06-.94L8.5 2.5l-.94 2.06-2.06.94zm10 10l.94 2.06.94-2.06 2.06-.94-2.06-.94-.94-2.06-.94 2.06-2.06.94z\"/><path d=\"M17.41 7.96l-1.37-1.37c-.4-.4-.92-.59-1.43-.59-.52 0-1.04.2-1.43.59L10.3 9.45l-7.72 7.72c-.78.78-.78 2.05 0 2.83L4 21.41c.39.39.9.59 1.41.59.51 0 1.02-.2 1.41-.59l7.78-7.78 2.81-2.81c.8-.78.8-2.07 0-2.86zM5.41 20L4 18.59l7.72-7.72 1.47 1.35L5.41 20z\"/>\n",
              "  </svg>\n",
              "      </button>\n",
              "      \n",
              "  <style>\n",
              "    .colab-df-container {\n",
              "      display:flex;\n",
              "      flex-wrap:wrap;\n",
              "      gap: 12px;\n",
              "    }\n",
              "\n",
              "    .colab-df-convert {\n",
              "      background-color: #E8F0FE;\n",
              "      border: none;\n",
              "      border-radius: 50%;\n",
              "      cursor: pointer;\n",
              "      display: none;\n",
              "      fill: #1967D2;\n",
              "      height: 32px;\n",
              "      padding: 0 0 0 0;\n",
              "      width: 32px;\n",
              "    }\n",
              "\n",
              "    .colab-df-convert:hover {\n",
              "      background-color: #E2EBFA;\n",
              "      box-shadow: 0px 1px 2px rgba(60, 64, 67, 0.3), 0px 1px 3px 1px rgba(60, 64, 67, 0.15);\n",
              "      fill: #174EA6;\n",
              "    }\n",
              "\n",
              "    [theme=dark] .colab-df-convert {\n",
              "      background-color: #3B4455;\n",
              "      fill: #D2E3FC;\n",
              "    }\n",
              "\n",
              "    [theme=dark] .colab-df-convert:hover {\n",
              "      background-color: #434B5C;\n",
              "      box-shadow: 0px 1px 3px 1px rgba(0, 0, 0, 0.15);\n",
              "      filter: drop-shadow(0px 1px 2px rgba(0, 0, 0, 0.3));\n",
              "      fill: #FFFFFF;\n",
              "    }\n",
              "  </style>\n",
              "\n",
              "      <script>\n",
              "        const buttonEl =\n",
              "          document.querySelector('#df-84c5cad4-3af5-4171-b993-db635e275050 button.colab-df-convert');\n",
              "        buttonEl.style.display =\n",
              "          google.colab.kernel.accessAllowed ? 'block' : 'none';\n",
              "\n",
              "        async function convertToInteractive(key) {\n",
              "          const element = document.querySelector('#df-84c5cad4-3af5-4171-b993-db635e275050');\n",
              "          const dataTable =\n",
              "            await google.colab.kernel.invokeFunction('convertToInteractive',\n",
              "                                                     [key], {});\n",
              "          if (!dataTable) return;\n",
              "\n",
              "          const docLinkHtml = 'Like what you see? Visit the ' +\n",
              "            '<a target=\"_blank\" href=https://colab.research.google.com/notebooks/data_table.ipynb>data table notebook</a>'\n",
              "            + ' to learn more about interactive tables.';\n",
              "          element.innerHTML = '';\n",
              "          dataTable['output_type'] = 'display_data';\n",
              "          await google.colab.output.renderOutput(dataTable, element);\n",
              "          const docLink = document.createElement('div');\n",
              "          docLink.innerHTML = docLinkHtml;\n",
              "          element.appendChild(docLink);\n",
              "        }\n",
              "      </script>\n",
              "    </div>\n",
              "  </div>\n",
              "  "
            ]
          },
          "metadata": {},
          "execution_count": 6
        }
      ]
    },
    {
      "cell_type": "markdown",
      "source": [
        "## Utilizando o algoritmo PCA"
      ],
      "metadata": {
        "id": "gBcIqXtSQvUK"
      }
    },
    {
      "cell_type": "code",
      "source": [
        "from sklearn.decomposition import PCA"
      ],
      "metadata": {
        "id": "gh7GyDmNQxM6"
      },
      "execution_count": null,
      "outputs": []
    },
    {
      "cell_type": "markdown",
      "source": [
        "Com 10 features"
      ],
      "metadata": {
        "id": "NiAj6eGSRF25"
      }
    },
    {
      "cell_type": "code",
      "source": [],
      "metadata": {
        "colab": {
          "base_uri": "https://localhost:8080/"
        },
        "id": "WjgvAwq0RAbf",
        "outputId": "d11df12d-4de8-4a68-fd49-728503f6a76f"
      },
      "execution_count": null,
      "outputs": [
        {
          "output_type": "execute_result",
          "data": {
            "text/plain": [
              "PCA(n_components=10)"
            ]
          },
          "metadata": {},
          "execution_count": 8
        }
      ]
    },
    {
      "cell_type": "code",
      "source": [],
      "metadata": {
        "id": "In4HzNSARL9o"
      },
      "execution_count": null,
      "outputs": []
    },
    {
      "cell_type": "markdown",
      "source": [
        "Com 5 features"
      ],
      "metadata": {
        "id": "1Fd_R8NQRoot"
      }
    },
    {
      "cell_type": "code",
      "source": [],
      "metadata": {
        "id": "5nEZSg2-GoOJ",
        "colab": {
          "base_uri": "https://localhost:8080/"
        },
        "outputId": "604f4ac2-b758-473e-ae73-6307a153c08e"
      },
      "execution_count": null,
      "outputs": [
        {
          "output_type": "execute_result",
          "data": {
            "text/plain": [
              "PCA(n_components=5)"
            ]
          },
          "metadata": {},
          "execution_count": 10
        }
      ]
    },
    {
      "cell_type": "code",
      "source": [],
      "metadata": {
        "id": "-M11agUNRv2O"
      },
      "execution_count": null,
      "outputs": []
    },
    {
      "cell_type": "markdown",
      "source": [
        "## Treinando os modelos com todas as features, com 10 e 5 do PCA"
      ],
      "metadata": {
        "id": "gmdx33tjRz8O"
      }
    },
    {
      "cell_type": "code",
      "source": [],
      "metadata": {
        "id": "7jDYbiW0Aifl"
      },
      "execution_count": null,
      "outputs": []
    },
    {
      "cell_type": "markdown",
      "source": [
        "Todas as features"
      ],
      "metadata": {
        "id": "gneq-k2DR8pr"
      }
    },
    {
      "cell_type": "code",
      "source": [],
      "metadata": {
        "id": "C_6-IJtnDr_l"
      },
      "execution_count": null,
      "outputs": []
    },
    {
      "cell_type": "code",
      "source": [],
      "metadata": {
        "colab": {
          "base_uri": "https://localhost:8080/"
        },
        "id": "9gWytdRBSDFn",
        "outputId": "8ec3fc00-4d70-41d0-94aa-da798fb149da"
      },
      "execution_count": null,
      "outputs": [
        {
          "output_type": "execute_result",
          "data": {
            "text/plain": [
              "KNeighborsClassifier()"
            ]
          },
          "metadata": {},
          "execution_count": 14
        }
      ]
    },
    {
      "cell_type": "code",
      "source": [],
      "metadata": {
        "id": "7S24bCYQSJXg"
      },
      "execution_count": null,
      "outputs": []
    },
    {
      "cell_type": "markdown",
      "source": [
        "Todas 10 features"
      ],
      "metadata": {
        "id": "eT5GOne5U4Q_"
      }
    },
    {
      "cell_type": "code",
      "source": [],
      "metadata": {
        "id": "lZuMqKjYU4RC"
      },
      "execution_count": null,
      "outputs": []
    },
    {
      "cell_type": "code",
      "source": [],
      "metadata": {
        "colab": {
          "base_uri": "https://localhost:8080/"
        },
        "outputId": "c5623cd2-a2ae-416c-f11e-2816a5518ee1",
        "id": "4NlwG3DnU4RG"
      },
      "execution_count": null,
      "outputs": [
        {
          "output_type": "execute_result",
          "data": {
            "text/plain": [
              "KNeighborsClassifier()"
            ]
          },
          "metadata": {},
          "execution_count": 17
        }
      ]
    },
    {
      "cell_type": "code",
      "source": [],
      "metadata": {
        "id": "Dst8M07nU4RI"
      },
      "execution_count": null,
      "outputs": []
    },
    {
      "cell_type": "markdown",
      "source": [
        "Todas 5 features"
      ],
      "metadata": {
        "id": "dCxflUwXU4qQ"
      }
    },
    {
      "cell_type": "code",
      "source": [],
      "metadata": {
        "id": "uicxUJTYU4qS"
      },
      "execution_count": null,
      "outputs": []
    },
    {
      "cell_type": "code",
      "source": [],
      "metadata": {
        "colab": {
          "base_uri": "https://localhost:8080/"
        },
        "outputId": "a1fcc51f-6962-4f53-fca4-62ca3aa341d5",
        "id": "O9efbe37U4qT"
      },
      "execution_count": null,
      "outputs": [
        {
          "output_type": "execute_result",
          "data": {
            "text/plain": [
              "KNeighborsClassifier()"
            ]
          },
          "metadata": {},
          "execution_count": 20
        }
      ]
    },
    {
      "cell_type": "code",
      "source": [],
      "metadata": {
        "id": "80LnH0JUU4qU"
      },
      "execution_count": null,
      "outputs": []
    },
    {
      "cell_type": "markdown",
      "source": [
        "## Analisando os resultados dos experimentos"
      ],
      "metadata": {
        "id": "DLFUfzWdUcry"
      }
    },
    {
      "cell_type": "code",
      "source": [],
      "metadata": {
        "id": "qE8VLDm-UXv4"
      },
      "execution_count": null,
      "outputs": []
    },
    {
      "cell_type": "markdown",
      "source": [
        "Com todas as features"
      ],
      "metadata": {
        "id": "dtWt3qqKUloJ"
      }
    },
    {
      "cell_type": "code",
      "source": [],
      "metadata": {
        "colab": {
          "base_uri": "https://localhost:8080/"
        },
        "id": "B-EOEmGrUnL1",
        "outputId": "9c6cd1e7-db16-4253-efc2-efb73974a28d"
      },
      "execution_count": null,
      "outputs": [
        {
          "output_type": "stream",
          "name": "stdout",
          "text": [
            "              precision    recall  f1-score   support\n",
            "\n",
            "           0       0.84      0.76      0.80       154\n",
            "           1       0.77      0.84      0.80       146\n",
            "\n",
            "    accuracy                           0.80       300\n",
            "   macro avg       0.80      0.80      0.80       300\n",
            "weighted avg       0.80      0.80      0.80       300\n",
            "\n"
          ]
        }
      ]
    },
    {
      "cell_type": "markdown",
      "source": [
        "Com 10 features"
      ],
      "metadata": {
        "id": "HstyuELeUxBd"
      }
    },
    {
      "cell_type": "code",
      "source": [],
      "metadata": {
        "colab": {
          "base_uri": "https://localhost:8080/"
        },
        "outputId": "41936480-525f-4429-d626-8c33ee2c7d7f",
        "id": "9e2zw848UxBg"
      },
      "execution_count": null,
      "outputs": [
        {
          "output_type": "stream",
          "name": "stdout",
          "text": [
            "              precision    recall  f1-score   support\n",
            "\n",
            "           0       0.83      0.74      0.78       154\n",
            "           1       0.75      0.84      0.80       146\n",
            "\n",
            "    accuracy                           0.79       300\n",
            "   macro avg       0.79      0.79      0.79       300\n",
            "weighted avg       0.79      0.79      0.79       300\n",
            "\n"
          ]
        }
      ]
    },
    {
      "cell_type": "markdown",
      "source": [
        "Com 5 features"
      ],
      "metadata": {
        "id": "IB7vXNcaUxhS"
      }
    },
    {
      "cell_type": "code",
      "source": [],
      "metadata": {
        "colab": {
          "base_uri": "https://localhost:8080/"
        },
        "outputId": "fe6b2872-c78a-4a41-9f3b-08d9505022c2",
        "id": "_m63arfUUxhU"
      },
      "execution_count": null,
      "outputs": [
        {
          "output_type": "stream",
          "name": "stdout",
          "text": [
            "              precision    recall  f1-score   support\n",
            "\n",
            "           0       0.86      0.77      0.81       154\n",
            "           1       0.78      0.87      0.82       146\n",
            "\n",
            "    accuracy                           0.82       300\n",
            "   macro avg       0.82      0.82      0.82       300\n",
            "weighted avg       0.82      0.82      0.82       300\n",
            "\n"
          ]
        }
      ]
    },
    {
      "cell_type": "markdown",
      "metadata": {
        "id": "ogttuG6mNNmZ"
      },
      "source": [
        "## Obtenha os dados\n",
        "** Leia o arquivo csv 'Arvore_Decisao_Iris_Data.csv' em um DataFrame **"
      ]
    },
    {
      "cell_type": "code",
      "metadata": {
        "id": "qAe52MvOLfqq"
      },
      "source": [
        "df = pd.read_csv('Arvore_Decisao_Iris_Data.csv')"
      ],
      "execution_count": null,
      "outputs": []
    },
    {
      "cell_type": "code",
      "source": [
        "columns = ['sepal_length', 'sepal_width', 'petal_length', 'petal_width', 'class']"
      ],
      "metadata": {
        "id": "in0-LdWmgkLQ"
      },
      "execution_count": null,
      "outputs": []
    },
    {
      "cell_type": "code",
      "source": [
        "df.columns = columns"
      ],
      "metadata": {
        "id": "4Mj18iJog7PX"
      },
      "execution_count": null,
      "outputs": []
    },
    {
      "cell_type": "markdown",
      "source": [
        "Convertendo o target em labels numérica"
      ],
      "metadata": {
        "id": "AFSSzfR0fkDJ"
      }
    },
    {
      "cell_type": "code",
      "source": [],
      "metadata": {
        "id": "6mIawdrIfo4C"
      },
      "execution_count": null,
      "outputs": []
    },
    {
      "cell_type": "code",
      "source": [],
      "metadata": {
        "id": "SdbbK2pcfrLl"
      },
      "execution_count": null,
      "outputs": []
    },
    {
      "cell_type": "code",
      "source": [],
      "metadata": {
        "id": "d9i3YQesfgXz"
      },
      "execution_count": null,
      "outputs": []
    },
    {
      "cell_type": "code",
      "source": [],
      "metadata": {
        "colab": {
          "base_uri": "https://localhost:8080/",
          "height": 300
        },
        "id": "lLB6o9fqBPYK",
        "outputId": "3eefd597-c328-477d-d606-0032934d99c6"
      },
      "execution_count": null,
      "outputs": [
        {
          "output_type": "execute_result",
          "data": {
            "text/plain": [
              "       sepal_length  sepal_width  petal_length  petal_width  class_numero\n",
              "count    149.000000   149.000000    149.000000   149.000000    149.000000\n",
              "mean       5.848322     3.051007      3.774497     1.205369      1.006711\n",
              "std        0.828594     0.433499      1.759651     0.761292      0.817847\n",
              "min        4.300000     2.000000      1.000000     0.100000      0.000000\n",
              "25%        5.100000     2.800000      1.600000     0.300000      0.000000\n",
              "50%        5.800000     3.000000      4.400000     1.300000      1.000000\n",
              "75%        6.400000     3.300000      5.100000     1.800000      2.000000\n",
              "max        7.900000     4.400000      6.900000     2.500000      2.000000"
            ],
            "text/html": [
              "\n",
              "  <div id=\"df-8ada5f46-4b6e-428c-981e-0ab7e4656268\">\n",
              "    <div class=\"colab-df-container\">\n",
              "      <div>\n",
              "<style scoped>\n",
              "    .dataframe tbody tr th:only-of-type {\n",
              "        vertical-align: middle;\n",
              "    }\n",
              "\n",
              "    .dataframe tbody tr th {\n",
              "        vertical-align: top;\n",
              "    }\n",
              "\n",
              "    .dataframe thead th {\n",
              "        text-align: right;\n",
              "    }\n",
              "</style>\n",
              "<table border=\"1\" class=\"dataframe\">\n",
              "  <thead>\n",
              "    <tr style=\"text-align: right;\">\n",
              "      <th></th>\n",
              "      <th>sepal_length</th>\n",
              "      <th>sepal_width</th>\n",
              "      <th>petal_length</th>\n",
              "      <th>petal_width</th>\n",
              "      <th>class_numero</th>\n",
              "    </tr>\n",
              "  </thead>\n",
              "  <tbody>\n",
              "    <tr>\n",
              "      <th>count</th>\n",
              "      <td>149.000000</td>\n",
              "      <td>149.000000</td>\n",
              "      <td>149.000000</td>\n",
              "      <td>149.000000</td>\n",
              "      <td>149.000000</td>\n",
              "    </tr>\n",
              "    <tr>\n",
              "      <th>mean</th>\n",
              "      <td>5.848322</td>\n",
              "      <td>3.051007</td>\n",
              "      <td>3.774497</td>\n",
              "      <td>1.205369</td>\n",
              "      <td>1.006711</td>\n",
              "    </tr>\n",
              "    <tr>\n",
              "      <th>std</th>\n",
              "      <td>0.828594</td>\n",
              "      <td>0.433499</td>\n",
              "      <td>1.759651</td>\n",
              "      <td>0.761292</td>\n",
              "      <td>0.817847</td>\n",
              "    </tr>\n",
              "    <tr>\n",
              "      <th>min</th>\n",
              "      <td>4.300000</td>\n",
              "      <td>2.000000</td>\n",
              "      <td>1.000000</td>\n",
              "      <td>0.100000</td>\n",
              "      <td>0.000000</td>\n",
              "    </tr>\n",
              "    <tr>\n",
              "      <th>25%</th>\n",
              "      <td>5.100000</td>\n",
              "      <td>2.800000</td>\n",
              "      <td>1.600000</td>\n",
              "      <td>0.300000</td>\n",
              "      <td>0.000000</td>\n",
              "    </tr>\n",
              "    <tr>\n",
              "      <th>50%</th>\n",
              "      <td>5.800000</td>\n",
              "      <td>3.000000</td>\n",
              "      <td>4.400000</td>\n",
              "      <td>1.300000</td>\n",
              "      <td>1.000000</td>\n",
              "    </tr>\n",
              "    <tr>\n",
              "      <th>75%</th>\n",
              "      <td>6.400000</td>\n",
              "      <td>3.300000</td>\n",
              "      <td>5.100000</td>\n",
              "      <td>1.800000</td>\n",
              "      <td>2.000000</td>\n",
              "    </tr>\n",
              "    <tr>\n",
              "      <th>max</th>\n",
              "      <td>7.900000</td>\n",
              "      <td>4.400000</td>\n",
              "      <td>6.900000</td>\n",
              "      <td>2.500000</td>\n",
              "      <td>2.000000</td>\n",
              "    </tr>\n",
              "  </tbody>\n",
              "</table>\n",
              "</div>\n",
              "      <button class=\"colab-df-convert\" onclick=\"convertToInteractive('df-8ada5f46-4b6e-428c-981e-0ab7e4656268')\"\n",
              "              title=\"Convert this dataframe to an interactive table.\"\n",
              "              style=\"display:none;\">\n",
              "        \n",
              "  <svg xmlns=\"http://www.w3.org/2000/svg\" height=\"24px\"viewBox=\"0 0 24 24\"\n",
              "       width=\"24px\">\n",
              "    <path d=\"M0 0h24v24H0V0z\" fill=\"none\"/>\n",
              "    <path d=\"M18.56 5.44l.94 2.06.94-2.06 2.06-.94-2.06-.94-.94-2.06-.94 2.06-2.06.94zm-11 1L8.5 8.5l.94-2.06 2.06-.94-2.06-.94L8.5 2.5l-.94 2.06-2.06.94zm10 10l.94 2.06.94-2.06 2.06-.94-2.06-.94-.94-2.06-.94 2.06-2.06.94z\"/><path d=\"M17.41 7.96l-1.37-1.37c-.4-.4-.92-.59-1.43-.59-.52 0-1.04.2-1.43.59L10.3 9.45l-7.72 7.72c-.78.78-.78 2.05 0 2.83L4 21.41c.39.39.9.59 1.41.59.51 0 1.02-.2 1.41-.59l7.78-7.78 2.81-2.81c.8-.78.8-2.07 0-2.86zM5.41 20L4 18.59l7.72-7.72 1.47 1.35L5.41 20z\"/>\n",
              "  </svg>\n",
              "      </button>\n",
              "      \n",
              "  <style>\n",
              "    .colab-df-container {\n",
              "      display:flex;\n",
              "      flex-wrap:wrap;\n",
              "      gap: 12px;\n",
              "    }\n",
              "\n",
              "    .colab-df-convert {\n",
              "      background-color: #E8F0FE;\n",
              "      border: none;\n",
              "      border-radius: 50%;\n",
              "      cursor: pointer;\n",
              "      display: none;\n",
              "      fill: #1967D2;\n",
              "      height: 32px;\n",
              "      padding: 0 0 0 0;\n",
              "      width: 32px;\n",
              "    }\n",
              "\n",
              "    .colab-df-convert:hover {\n",
              "      background-color: #E2EBFA;\n",
              "      box-shadow: 0px 1px 2px rgba(60, 64, 67, 0.3), 0px 1px 3px 1px rgba(60, 64, 67, 0.15);\n",
              "      fill: #174EA6;\n",
              "    }\n",
              "\n",
              "    [theme=dark] .colab-df-convert {\n",
              "      background-color: #3B4455;\n",
              "      fill: #D2E3FC;\n",
              "    }\n",
              "\n",
              "    [theme=dark] .colab-df-convert:hover {\n",
              "      background-color: #434B5C;\n",
              "      box-shadow: 0px 1px 3px 1px rgba(0, 0, 0, 0.15);\n",
              "      filter: drop-shadow(0px 1px 2px rgba(0, 0, 0, 0.3));\n",
              "      fill: #FFFFFF;\n",
              "    }\n",
              "  </style>\n",
              "\n",
              "      <script>\n",
              "        const buttonEl =\n",
              "          document.querySelector('#df-8ada5f46-4b6e-428c-981e-0ab7e4656268 button.colab-df-convert');\n",
              "        buttonEl.style.display =\n",
              "          google.colab.kernel.accessAllowed ? 'block' : 'none';\n",
              "\n",
              "        async function convertToInteractive(key) {\n",
              "          const element = document.querySelector('#df-8ada5f46-4b6e-428c-981e-0ab7e4656268');\n",
              "          const dataTable =\n",
              "            await google.colab.kernel.invokeFunction('convertToInteractive',\n",
              "                                                     [key], {});\n",
              "          if (!dataTable) return;\n",
              "\n",
              "          const docLinkHtml = 'Like what you see? Visit the ' +\n",
              "            '<a target=\"_blank\" href=https://colab.research.google.com/notebooks/data_table.ipynb>data table notebook</a>'\n",
              "            + ' to learn more about interactive tables.';\n",
              "          element.innerHTML = '';\n",
              "          dataTable['output_type'] = 'display_data';\n",
              "          await google.colab.output.renderOutput(dataTable, element);\n",
              "          const docLink = document.createElement('div');\n",
              "          docLink.innerHTML = docLinkHtml;\n",
              "          element.appendChild(docLink);\n",
              "        }\n",
              "      </script>\n",
              "    </div>\n",
              "  </div>\n",
              "  "
            ]
          },
          "metadata": {},
          "execution_count": 34
        }
      ]
    },
    {
      "cell_type": "code",
      "source": [],
      "metadata": {
        "id": "aYfX07XKiyGm"
      },
      "execution_count": null,
      "outputs": []
    },
    {
      "cell_type": "markdown",
      "metadata": {
        "id": "on89i9mcNNmq"
      },
      "source": [
        "# Divisão treino-teste\n",
        "\n",
        "Use o método train_test_split para dividir seus dados em um conjunto treino e teste."
      ]
    },
    {
      "cell_type": "code",
      "metadata": {
        "collapsed": true,
        "id": "7y_dORpKNNmr"
      },
      "source": [
        "from sklearn.model_selection import train_test_split"
      ],
      "execution_count": null,
      "outputs": []
    },
    {
      "cell_type": "code",
      "metadata": {
        "collapsed": true,
        "id": "TZ9KcjdlNNmr"
      },
      "source": [],
      "execution_count": null,
      "outputs": []
    },
    {
      "cell_type": "markdown",
      "source": [],
      "metadata": {
        "id": "UFe7jcIgP7XI"
      }
    },
    {
      "cell_type": "markdown",
      "metadata": {
        "id": "7DeROxA_NNmg"
      },
      "source": [
        "# Padronize as variáveis\n",
        "\n",
        "Hora de para padronizar as variáveis.\n",
        "\n",
        "Import StandardScaler do Scikit-learn."
      ]
    },
    {
      "cell_type": "code",
      "metadata": {
        "collapsed": true,
        "id": "pvFdPbkbNNmj"
      },
      "source": [
        "from sklearn.preprocessing import StandardScaler"
      ],
      "execution_count": null,
      "outputs": []
    },
    {
      "cell_type": "code",
      "metadata": {
        "collapsed": true,
        "id": "XFWMZfjVNNml"
      },
      "source": [],
      "execution_count": null,
      "outputs": []
    },
    {
      "cell_type": "markdown",
      "metadata": {
        "id": "Zo0B7ONVNNmm"
      },
      "source": [
        "Converta as variáveis independentes com o StandardScaler "
      ]
    },
    {
      "cell_type": "code",
      "metadata": {
        "id": "gpMleFuaNNmn",
        "colab": {
          "base_uri": "https://localhost:8080/"
        },
        "outputId": "141f5d07-9b69-4f4d-c56f-f8090d558589"
      },
      "source": [],
      "execution_count": null,
      "outputs": [
        {
          "output_type": "execute_result",
          "data": {
            "text/plain": [
              "StandardScaler()"
            ]
          },
          "metadata": {},
          "execution_count": 40
        }
      ]
    },
    {
      "cell_type": "markdown",
      "metadata": {
        "id": "RzrS3aaZNNmo"
      },
      "source": [
        "Use o método .transform () para transformar os parâmetros em uma versão padronizada."
      ]
    },
    {
      "cell_type": "code",
      "metadata": {
        "collapsed": true,
        "id": "DDOG8SElNNmp"
      },
      "source": [],
      "execution_count": null,
      "outputs": []
    },
    {
      "cell_type": "markdown",
      "metadata": {
        "id": "_abK4nAkNNms"
      },
      "source": [
        "# Usando o algoritmo Random Forest como Feature Selection\n",
        "\n",
        "Importe o RandomForestClassfier e SelectFromModel do scikit learn."
      ]
    },
    {
      "cell_type": "code",
      "metadata": {
        "collapsed": true,
        "id": "npghbeYJNNms"
      },
      "source": [
        "from sklearn.ensemble import RandomForestClassifier\n",
        "from sklearn.feature_selection import SelectFromModel\n",
        "\n",
        "from sklearn.metrics import accuracy_score"
      ],
      "execution_count": null,
      "outputs": []
    },
    {
      "cell_type": "code",
      "source": [
        "clf = RandomForestClassifier()"
      ],
      "metadata": {
        "id": "Jv86blY987j0"
      },
      "execution_count": null,
      "outputs": []
    },
    {
      "cell_type": "code",
      "source": [],
      "metadata": {
        "colab": {
          "base_uri": "https://localhost:8080/"
        },
        "id": "wNKbrpMt9srQ",
        "outputId": "39b5d33f-676b-4fbc-92df-601b3186d7d5"
      },
      "execution_count": null,
      "outputs": [
        {
          "output_type": "execute_result",
          "data": {
            "text/plain": [
              "RandomForestClassifier()"
            ]
          },
          "metadata": {},
          "execution_count": 44
        }
      ]
    },
    {
      "cell_type": "code",
      "source": [],
      "metadata": {
        "id": "DVtkIk5T9we1"
      },
      "execution_count": null,
      "outputs": []
    },
    {
      "cell_type": "markdown",
      "source": [
        "Analisando a accuracy:"
      ],
      "metadata": {
        "id": "e78RU-WW9-OR"
      }
    },
    {
      "cell_type": "code",
      "source": [],
      "metadata": {
        "colab": {
          "base_uri": "https://localhost:8080/"
        },
        "id": "v8Ve9O2V90U3",
        "outputId": "12b8fa6d-421c-4b92-8e96-a2e0d8e6d495"
      },
      "execution_count": null,
      "outputs": [
        {
          "output_type": "execute_result",
          "data": {
            "text/plain": [
              "0.9777777777777777"
            ]
          },
          "metadata": {},
          "execution_count": 48
        }
      ]
    },
    {
      "cell_type": "code",
      "source": [],
      "metadata": {
        "colab": {
          "base_uri": "https://localhost:8080/",
          "height": 265
        },
        "id": "xIzn6e8G8vSY",
        "outputId": "70faf063-eb58-4c13-da62-12f0dfa74b79"
      },
      "execution_count": null,
      "outputs": [
        {
          "output_type": "display_data",
          "data": {
            "text/plain": [
              "<Figure size 432x288 with 1 Axes>"
            ],
            "image/png": "[encoded data removed]"
          },
          "metadata": {
            "needs_background": "light"
          }
        }
      ]
    },
    {
      "cell_type": "markdown",
      "source": [
        "Referência: https://scikit-learn.org/stable/auto_examples/ensemble/plot_forest_importances.html"
      ],
      "metadata": {
        "id": "N2enbnmH_I_U"
      }
    },
    {
      "cell_type": "markdown",
      "metadata": {
        "id": "hhrIdwANNNmw"
      },
      "source": [
        "## Utilizando e analisando feature selection do modelo Random Forest via SelectFromModel"
      ]
    },
    {
      "cell_type": "code",
      "metadata": {
        "id": "BwZL6y52NNmt",
        "colab": {
          "base_uri": "https://localhost:8080/"
        },
        "outputId": "ef97105d-80be-4071-bae0-28809df53f76"
      },
      "source": [],
      "execution_count": null,
      "outputs": [
        {
          "output_type": "execute_result",
          "data": {
            "text/plain": [
              "SelectFromModel(estimator=RandomForestClassifier())"
            ]
          },
          "metadata": {},
          "execution_count": 50
        }
      ]
    },
    {
      "cell_type": "code",
      "source": [],
      "metadata": {
        "colab": {
          "base_uri": "https://localhost:8080/"
        },
        "id": "7mjGPquM7VwV",
        "outputId": "59480c1c-c290-48ad-85cf-2216f7eb977d"
      },
      "execution_count": null,
      "outputs": [
        {
          "output_type": "execute_result",
          "data": {
            "text/plain": [
              "array([False, False,  True,  True])"
            ]
          },
          "metadata": {},
          "execution_count": 51
        }
      ]
    },
    {
      "cell_type": "code",
      "metadata": {
        "id": "Bbp24Cx-NNmv",
        "colab": {
          "base_uri": "https://localhost:8080/"
        },
        "outputId": "22942015-3cfc-48c0-ce3f-6e7a78f41289"
      },
      "source": [],
      "execution_count": null,
      "outputs": [
        {
          "output_type": "execute_result",
          "data": {
            "text/plain": [
              "2"
            ]
          },
          "metadata": {},
          "execution_count": 53
        }
      ]
    },
    {
      "cell_type": "markdown",
      "metadata": {
        "id": "fJcqMiHnvRLR"
      },
      "source": [
        "## Validação Cruzada com k-NN"
      ]
    },
    {
      "cell_type": "markdown",
      "source": [
        "### Aplique a validação cruzada para as bases de dados utilizadas neste exercício\n",
        "\n",
        "Utilize o conjunto de dados gerados a partir do sklearn. Primeira parte dos exercícios."
      ],
      "metadata": {
        "id": "ifhr90j1LWDr"
      }
    },
    {
      "cell_type": "code",
      "source": [
        "from sklearn.model_selection import cross_val_score\n",
        "from sklearn.metrics import plot_confusion_matrix"
      ],
      "metadata": {
        "id": "SD0mXDuyJWVN"
      },
      "execution_count": null,
      "outputs": []
    },
    {
      "cell_type": "markdown",
      "source": [
        "#### Dados gerados com a função do sklearn"
      ],
      "metadata": {
        "id": "f4CaIy4KL0_M"
      }
    },
    {
      "cell_type": "code",
      "metadata": {
        "colab": {
          "base_uri": "https://localhost:8080/"
        },
        "outputId": "3c53d49e-1dc9-44ac-b259-68a9df0ca228",
        "id": "FDBfRpYkL0_O"
      },
      "source": [],
      "execution_count": null,
      "outputs": [
        {
          "output_type": "execute_result",
          "data": {
            "text/plain": [
              "array([0.85714286, 0.77857143, 0.8       , 0.70714286, 0.77142857])"
            ]
          },
          "metadata": {},
          "execution_count": 68
        }
      ]
    },
    {
      "cell_type": "code",
      "metadata": {
        "colab": {
          "base_uri": "https://localhost:8080/"
        },
        "outputId": "beb4172c-1598-4df7-ea9c-00b435502f8b",
        "id": "11I7wxvPL0_Q"
      },
      "source": [],
      "execution_count": null,
      "outputs": [
        {
          "output_type": "execute_result",
          "data": {
            "text/plain": [
              "78.29"
            ]
          },
          "metadata": {},
          "execution_count": 69
        }
      ]
    },
    {
      "cell_type": "code",
      "metadata": {
        "colab": {
          "base_uri": "https://localhost:8080/",
          "height": 421
        },
        "outputId": "f0d50cd2-7529-4ced-8ec5-664706dff8e1",
        "id": "JsAimTHzL0_R"
      },
      "source": [
        "from sklearn.model_selection import cross_val_score\n",
        "\n",
        "score = []\n",
        "\n",
        "for i in range(1,30):\n",
        "  #model \n",
        "  #cross validation \n",
        "  #score.append(round((cv_scores.mean()*100), 2))\n",
        "  \n",
        "plt.figure(figsize=(10,6))\n",
        "plt.plot(range(1,30), score, color='blue', linestyle='dashed', marker='o',\n",
        "           markerfacecolor = 'red', markersize=10)\n",
        "plt.title('Score Rate vs K Value')\n",
        "plt.xlabel('K')\n",
        "plt.ylabel('Score Rate')"
      ],
      "execution_count": null,
      "outputs": [
        {
          "output_type": "execute_result",
          "data": {
            "text/plain": [
              "Text(0, 0.5, 'Score Rate')"
            ]
          },
          "metadata": {},
          "execution_count": 70
        },
        {
          "output_type": "display_data",
          "data": {
            "text/plain": [
              "<Figure size 720x432 with 1 Axes>"
            ],
            "image/png": "[encoded data removed]"
          },
          "metadata": {
            "needs_background": "light"
          }
        }
      ]
    },
    {
      "cell_type": "code",
      "metadata": {
        "colab": {
          "base_uri": "https://localhost:8080/"
        },
        "outputId": "0fa27c90-5a0f-4644-c304-5d88e587fe4e",
        "id": "p5sSvdCOL0_S"
      },
      "source": [],
      "execution_count": null,
      "outputs": [
        {
          "output_type": "stream",
          "name": "stdout",
          "text": [
            "              precision    recall  f1-score   support\n",
            "\n",
            "           0       0.89      0.85      0.87       350\n",
            "           1       0.85      0.89      0.87       350\n",
            "\n",
            "    accuracy                           0.87       700\n",
            "   macro avg       0.87      0.87      0.87       700\n",
            "weighted avg       0.87      0.87      0.87       700\n",
            "\n"
          ]
        }
      ]
    },
    {
      "cell_type": "code",
      "metadata": {
        "colab": {
          "base_uri": "https://localhost:8080/",
          "height": 334
        },
        "outputId": "d5c556e9-42be-499f-86ed-9338565c2bf2",
        "id": "cKtTdocoL0_U"
      },
      "source": [],
      "execution_count": null,
      "outputs": [
        {
          "output_type": "stream",
          "name": "stderr",
          "text": [
            "/usr/local/lib/python3.7/dist-packages/sklearn/utils/deprecation.py:87: FutureWarning: Function plot_confusion_matrix is deprecated; Function `plot_confusion_matrix` is deprecated in 1.0 and will be removed in 1.2. Use one of the class methods: ConfusionMatrixDisplay.from_predictions or ConfusionMatrixDisplay.from_estimator.\n",
            "  warnings.warn(msg, category=FutureWarning)\n"
          ]
        },
        {
          "output_type": "display_data",
          "data": {
            "text/plain": [
              "<Figure size 432x288 with 2 Axes>"
            ],
            "image/png": "[encoded data removed]"
          },
          "metadata": {
            "needs_background": "light"
          }
        }
      ]
    },
    {
      "cell_type": "markdown",
      "source": [
        "#### Dados Iris\n",
        "\n",
        "Ponto extra"
      ],
      "metadata": {
        "id": "y65j38ZTLgor"
      }
    },
    {
      "cell_type": "code",
      "metadata": {
        "id": "5EAJj5ZLw034",
        "colab": {
          "base_uri": "https://localhost:8080/"
        },
        "outputId": "07b60e6f-9b5f-4888-b437-f022147fbe70"
      },
      "source": [],
      "execution_count": null,
      "outputs": [
        {
          "output_type": "execute_result",
          "data": {
            "text/plain": [
              "array([0.9047619 , 0.95238095, 0.9047619 , 0.95238095, 1.        ])"
            ]
          },
          "metadata": {},
          "execution_count": 55
        }
      ]
    },
    {
      "cell_type": "code",
      "metadata": {
        "id": "TabI6nS9xVte",
        "colab": {
          "base_uri": "https://localhost:8080/"
        },
        "outputId": "0113b006-3de6-4ad1-a065-29e3814ca568"
      },
      "source": [],
      "execution_count": null,
      "outputs": [
        {
          "output_type": "execute_result",
          "data": {
            "text/plain": [
              "94.29"
            ]
          },
          "metadata": {},
          "execution_count": 56
        }
      ]
    },
    {
      "cell_type": "code",
      "metadata": {
        "id": "komCbIaNJAuH",
        "colab": {
          "base_uri": "https://localhost:8080/",
          "height": 421
        },
        "outputId": "c3fefd5e-f7bf-4a08-a1cf-eb4831d97c71"
      },
      "source": [
        "from sklearn.model_selection import cross_val_score\n",
        "\n",
        "score = []\n",
        "\n",
        "for i in range(1,30):\n",
        "  #model \n",
        "  #cross validation\n",
        "  #score.append(round((cv_scores.mean()*100), 2))\n",
        "  \n",
        "plt.figure(figsize=(10,6))\n",
        "plt.plot(range(1,30), score, color='blue', linestyle='dashed', marker='o',\n",
        "           markerfacecolor = 'red', markersize=10)\n",
        "plt.title('Score Rate vs K Value')\n",
        "plt.xlabel('K')\n",
        "plt.ylabel('Score Rate')"
      ],
      "execution_count": null,
      "outputs": [
        {
          "output_type": "execute_result",
          "data": {
            "text/plain": [
              "Text(0, 0.5, 'Score Rate')"
            ]
          },
          "metadata": {},
          "execution_count": 57
        },
        {
          "output_type": "display_data",
          "data": {
            "text/plain": [
              "<Figure size 720x432 with 1 Axes>"
            ],
            "image/png": "[encoded data removed]"
          },
          "metadata": {
            "needs_background": "light"
          }
        }
      ]
    },
    {
      "cell_type": "code",
      "metadata": {
        "id": "S02I8vBVv4oh",
        "colab": {
          "base_uri": "https://localhost:8080/"
        },
        "outputId": "b3f9da56-b76c-43ed-9590-34892bb92214"
      },
      "source": [],
      "execution_count": null,
      "outputs": [
        {
          "output_type": "stream",
          "name": "stdout",
          "text": [
            "              precision    recall  f1-score   support\n",
            "\n",
            "           0       1.00      1.00      1.00        32\n",
            "           1       1.00      1.00      1.00        33\n",
            "           2       1.00      1.00      1.00        39\n",
            "\n",
            "    accuracy                           1.00       104\n",
            "   macro avg       1.00      1.00      1.00       104\n",
            "weighted avg       1.00      1.00      1.00       104\n",
            "\n"
          ]
        }
      ]
    },
    {
      "cell_type": "code",
      "metadata": {
        "id": "ybTZ0697wJI3",
        "colab": {
          "base_uri": "https://localhost:8080/",
          "height": 334
        },
        "outputId": "58bb470f-2f55-4ed5-9215-9653617c7581"
      },
      "source": [],
      "execution_count": null,
      "outputs": [
        {
          "output_type": "stream",
          "name": "stderr",
          "text": [
            "/usr/local/lib/python3.7/dist-packages/sklearn/utils/deprecation.py:87: FutureWarning: Function plot_confusion_matrix is deprecated; Function `plot_confusion_matrix` is deprecated in 1.0 and will be removed in 1.2. Use one of the class methods: ConfusionMatrixDisplay.from_predictions or ConfusionMatrixDisplay.from_estimator.\n",
            "  warnings.warn(msg, category=FutureWarning)\n"
          ]
        },
        {
          "output_type": "display_data",
          "data": {
            "text/plain": [
              "<Figure size 432x288 with 2 Axes>"
            ],
            "image/png": "[encoded data removed]"
          },
          "metadata": {
            "needs_background": "light"
          }
        }
      ]
    }
  ]
}